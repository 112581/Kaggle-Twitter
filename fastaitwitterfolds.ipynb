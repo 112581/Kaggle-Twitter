{
  "nbformat": 4,
  "nbformat_minor": 0,
  "metadata": {
    "colab": {
      "name": "fastaitwitterfolds.ipynb",
      "provenance": [],
      "machine_shape": "hm"
    },
    "kernelspec": {
      "name": "python3",
      "display_name": "Python 3"
    },
    "accelerator": "GPU"
  },
  "cells": [
    {
      "cell_type": "code",
      "metadata": {
        "id": "FHjz9DqIuJiJ",
        "outputId": "f37d5ba9-8088-41f2-bde1-354a39ecb574",
        "colab": {
          "base_uri": "https://localhost:8080/",
          "height": 696
        }
      },
      "source": [
        "!pip install transformers"
      ],
      "execution_count": null,
      "outputs": [
        {
          "output_type": "stream",
          "text": [
            "Collecting transformers\n",
            "\u001b[?25l  Downloading https://files.pythonhosted.org/packages/a3/78/92cedda05552398352ed9784908b834ee32a0bd071a9b32de287327370b7/transformers-2.8.0-py3-none-any.whl (563kB)\n",
            "\u001b[K     |████████████████████████████████| 573kB 3.4MB/s \n",
            "\u001b[?25hCollecting sacremoses\n",
            "\u001b[?25l  Downloading https://files.pythonhosted.org/packages/a6/b4/7a41d630547a4afd58143597d5a49e07bfd4c42914d8335b2a5657efc14b/sacremoses-0.0.38.tar.gz (860kB)\n",
            "\u001b[K     |████████████████████████████████| 870kB 15.9MB/s \n",
            "\u001b[?25hRequirement already satisfied: requests in /usr/local/lib/python3.6/dist-packages (from transformers) (2.21.0)\n",
            "Requirement already satisfied: regex!=2019.12.17 in /usr/local/lib/python3.6/dist-packages (from transformers) (2019.12.20)\n",
            "Requirement already satisfied: filelock in /usr/local/lib/python3.6/dist-packages (from transformers) (3.0.12)\n",
            "Requirement already satisfied: dataclasses; python_version < \"3.7\" in /usr/local/lib/python3.6/dist-packages (from transformers) (0.7)\n",
            "Requirement already satisfied: tqdm>=4.27 in /usr/local/lib/python3.6/dist-packages (from transformers) (4.38.0)\n",
            "Requirement already satisfied: boto3 in /usr/local/lib/python3.6/dist-packages (from transformers) (1.12.38)\n",
            "Collecting sentencepiece\n",
            "\u001b[?25l  Downloading https://files.pythonhosted.org/packages/74/f4/2d5214cbf13d06e7cb2c20d84115ca25b53ea76fa1f0ade0e3c9749de214/sentencepiece-0.1.85-cp36-cp36m-manylinux1_x86_64.whl (1.0MB)\n",
            "\u001b[K     |████████████████████████████████| 1.0MB 19.6MB/s \n",
            "\u001b[?25hRequirement already satisfied: numpy in /usr/local/lib/python3.6/dist-packages (from transformers) (1.18.2)\n",
            "Collecting tokenizers==0.5.2\n",
            "\u001b[?25l  Downloading https://files.pythonhosted.org/packages/d1/3f/73c881ea4723e43c1e9acf317cf407fab3a278daab3a69c98dcac511c04f/tokenizers-0.5.2-cp36-cp36m-manylinux1_x86_64.whl (3.7MB)\n",
            "\u001b[K     |████████████████████████████████| 3.7MB 29.8MB/s \n",
            "\u001b[?25hRequirement already satisfied: six in /usr/local/lib/python3.6/dist-packages (from sacremoses->transformers) (1.12.0)\n",
            "Requirement already satisfied: click in /usr/local/lib/python3.6/dist-packages (from sacremoses->transformers) (7.1.1)\n",
            "Requirement already satisfied: joblib in /usr/local/lib/python3.6/dist-packages (from sacremoses->transformers) (0.14.1)\n",
            "Requirement already satisfied: chardet<3.1.0,>=3.0.2 in /usr/local/lib/python3.6/dist-packages (from requests->transformers) (3.0.4)\n",
            "Requirement already satisfied: urllib3<1.25,>=1.21.1 in /usr/local/lib/python3.6/dist-packages (from requests->transformers) (1.24.3)\n",
            "Requirement already satisfied: certifi>=2017.4.17 in /usr/local/lib/python3.6/dist-packages (from requests->transformers) (2020.4.5.1)\n",
            "Requirement already satisfied: idna<2.9,>=2.5 in /usr/local/lib/python3.6/dist-packages (from requests->transformers) (2.8)\n",
            "Requirement already satisfied: botocore<1.16.0,>=1.15.38 in /usr/local/lib/python3.6/dist-packages (from boto3->transformers) (1.15.38)\n",
            "Requirement already satisfied: jmespath<1.0.0,>=0.7.1 in /usr/local/lib/python3.6/dist-packages (from boto3->transformers) (0.9.5)\n",
            "Requirement already satisfied: s3transfer<0.4.0,>=0.3.0 in /usr/local/lib/python3.6/dist-packages (from boto3->transformers) (0.3.3)\n",
            "Requirement already satisfied: docutils<0.16,>=0.10 in /usr/local/lib/python3.6/dist-packages (from botocore<1.16.0,>=1.15.38->boto3->transformers) (0.15.2)\n",
            "Requirement already satisfied: python-dateutil<3.0.0,>=2.1 in /usr/local/lib/python3.6/dist-packages (from botocore<1.16.0,>=1.15.38->boto3->transformers) (2.8.1)\n",
            "Building wheels for collected packages: sacremoses\n",
            "  Building wheel for sacremoses (setup.py) ... \u001b[?25l\u001b[?25hdone\n",
            "  Created wheel for sacremoses: filename=sacremoses-0.0.38-cp36-none-any.whl size=884628 sha256=81d41ea7c565816807c272d80dd9be167582e2e52bf808a1564b62ea3288783e\n",
            "  Stored in directory: /root/.cache/pip/wheels/6d/ec/1a/21b8912e35e02741306f35f66c785f3afe94de754a0eaf1422\n",
            "Successfully built sacremoses\n",
            "Installing collected packages: sacremoses, sentencepiece, tokenizers, transformers\n",
            "Successfully installed sacremoses-0.0.38 sentencepiece-0.1.85 tokenizers-0.5.2 transformers-2.8.0\n"
          ],
          "name": "stdout"
        }
      ]
    },
    {
      "cell_type": "code",
      "metadata": {
        "id": "pwOqfpdOPHun"
      },
      "source": [
        "from tqdm import tqdm_notebook as tqdm"
      ],
      "execution_count": null,
      "outputs": []
    },
    {
      "cell_type": "code",
      "metadata": {
        "id": "Ta53JspOPxdI"
      },
      "source": [
        "import numpy as np\n",
        "import pandas as pd"
      ],
      "execution_count": null,
      "outputs": []
    },
    {
      "cell_type": "code",
      "metadata": {
        "id": "5UBPMEIHPzWk"
      },
      "source": [
        "from fastai.vision import *\n",
        "from fastai.callbacks.hooks import *\n",
        "from fastai.utils.mem import *"
      ],
      "execution_count": null,
      "outputs": []
    },
    {
      "cell_type": "code",
      "metadata": {
        "id": "VvDYoTkoP1X8",
        "outputId": "895b80a9-7420-4de5-cd80-0a83e5c987b4",
        "colab": {
          "base_uri": "https://localhost:8080/",
          "height": 228
        }
      },
      "source": [
        "! {sys.executable} -m pip install kaggle --upgrade"
      ],
      "execution_count": null,
      "outputs": [
        {
          "output_type": "stream",
          "text": [
            "Requirement already up-to-date: kaggle in /usr/local/lib/python3.6/dist-packages (1.5.6)\n",
            "Requirement already satisfied, skipping upgrade: requests in /usr/local/lib/python3.6/dist-packages (from kaggle) (2.21.0)\n",
            "Requirement already satisfied, skipping upgrade: tqdm in /usr/local/lib/python3.6/dist-packages (from kaggle) (4.38.0)\n",
            "Requirement already satisfied, skipping upgrade: certifi in /usr/local/lib/python3.6/dist-packages (from kaggle) (2020.4.5.1)\n",
            "Requirement already satisfied, skipping upgrade: six>=1.10 in /usr/local/lib/python3.6/dist-packages (from kaggle) (1.12.0)\n",
            "Requirement already satisfied, skipping upgrade: python-slugify in /usr/local/lib/python3.6/dist-packages (from kaggle) (4.0.0)\n",
            "Requirement already satisfied, skipping upgrade: python-dateutil in /usr/local/lib/python3.6/dist-packages (from kaggle) (2.8.1)\n",
            "Requirement already satisfied, skipping upgrade: urllib3<1.25,>=1.21.1 in /usr/local/lib/python3.6/dist-packages (from kaggle) (1.24.3)\n",
            "Requirement already satisfied, skipping upgrade: idna<2.9,>=2.5 in /usr/local/lib/python3.6/dist-packages (from requests->kaggle) (2.8)\n",
            "Requirement already satisfied, skipping upgrade: chardet<3.1.0,>=3.0.2 in /usr/local/lib/python3.6/dist-packages (from requests->kaggle) (3.0.4)\n",
            "Requirement already satisfied, skipping upgrade: text-unidecode>=1.3 in /usr/local/lib/python3.6/dist-packages (from python-slugify->kaggle) (1.3)\n"
          ],
          "name": "stdout"
        }
      ]
    },
    {
      "cell_type": "code",
      "metadata": {
        "id": "0m_HDDI0P385"
      },
      "source": [
        "! mkdir -p ~/.kaggle/\n",
        "! mv kaggle.json ~/.kaggle/"
      ],
      "execution_count": null,
      "outputs": []
    },
    {
      "cell_type": "code",
      "metadata": {
        "id": "QLRmrQwaQC8e",
        "outputId": "fec5eedb-9472-4869-9064-df907e2d1839",
        "colab": {
          "base_uri": "https://localhost:8080/",
          "height": 35
        }
      },
      "source": [
        "path = Path('data/twitter')\n",
        "path.mkdir(parents=True, exist_ok=True)\n",
        "path"
      ],
      "execution_count": null,
      "outputs": [
        {
          "output_type": "execute_result",
          "data": {
            "text/plain": [
              "PosixPath('data/twitter')"
            ]
          },
          "metadata": {
            "tags": []
          },
          "execution_count": 7
        }
      ]
    },
    {
      "cell_type": "code",
      "metadata": {
        "id": "4-SxkPFzQFLP",
        "outputId": "e2432985-962b-4f26-9d50-52302090267c",
        "colab": {
          "base_uri": "https://localhost:8080/",
          "height": 228
        }
      },
      "source": [
        "!kaggle competitions download -c tweet-sentiment-extraction -p {path}\n"
      ],
      "execution_count": null,
      "outputs": [
        {
          "output_type": "stream",
          "text": [
            "Warning: Your Kaggle API key is readable by other users on this system! To fix this, you can run 'chmod 600 /root/.kaggle/kaggle.json'\n",
            "Warning: Looks like you're using an outdated API Version, please consider updating (server 1.5.6 / client 1.5.4)\n",
            "Downloading sample_submission.csv to data/twitter\n",
            "  0% 0.00/41.4k [00:00<?, ?B/s]\n",
            "100% 41.4k/41.4k [00:00<00:00, 70.2MB/s]\n",
            "Downloading test.csv to data/twitter\n",
            "  0% 0.00/307k [00:00<?, ?B/s]\n",
            "100% 307k/307k [00:00<00:00, 101MB/s]\n",
            "Downloading train.csv.zip to data/twitter\n",
            "  0% 0.00/1.23M [00:00<?, ?B/s]\n",
            "100% 1.23M/1.23M [00:00<00:00, 79.1MB/s]\n"
          ],
          "name": "stdout"
        }
      ]
    },
    {
      "cell_type": "code",
      "metadata": {
        "id": "e6-qTzbGQHXm"
      },
      "source": [
        "! unzip -q -n {path}/train.csv.zip -d {path}"
      ],
      "execution_count": null,
      "outputs": []
    },
    {
      "cell_type": "code",
      "metadata": {
        "id": "JObpPoqXQKJ0"
      },
      "source": [
        "train_df = pd.read_csv(path/'train.csv')\n",
        "test_df = pd.read_csv(path/'test.csv')"
      ],
      "execution_count": null,
      "outputs": []
    },
    {
      "cell_type": "code",
      "metadata": {
        "id": "JiQckd54QMDq",
        "outputId": "8cf9aec9-1922-4f03-96af-0f93ab1c6483",
        "colab": {
          "base_uri": "https://localhost:8080/",
          "height": 35
        }
      },
      "source": [
        "from fastai.core import *\n",
        "import transformers; transformers.__version__"
      ],
      "execution_count": null,
      "outputs": [
        {
          "output_type": "execute_result",
          "data": {
            "text/plain": [
              "'2.8.0'"
            ]
          },
          "metadata": {
            "tags": []
          },
          "execution_count": 11
        }
      ]
    },
    {
      "cell_type": "code",
      "metadata": {
        "id": "Wo0cJIYFSCR7"
      },
      "source": [
        "KAGGLE_WORKING = Path(\"/kaggle/working\")"
      ],
      "execution_count": null,
      "outputs": []
    },
    {
      "cell_type": "code",
      "metadata": {
        "id": "1bLYFUE5SyNY"
      },
      "source": [
        "train_df = train_df.dropna().reset_index(drop=True)"
      ],
      "execution_count": null,
      "outputs": []
    },
    {
      "cell_type": "code",
      "metadata": {
        "id": "LFFlYKfkSzHq",
        "outputId": "149e3829-c554-4e5a-a7ff-0b7c15d61a74",
        "colab": {
          "base_uri": "https://localhost:8080/",
          "height": 35
        }
      },
      "source": [
        "max(len(o.split()) for o in array(train_df['text']))"
      ],
      "execution_count": null,
      "outputs": [
        {
          "output_type": "execute_result",
          "data": {
            "text/plain": [
              "33"
            ]
          },
          "metadata": {
            "tags": []
          },
          "execution_count": 13
        }
      ]
    },
    {
      "cell_type": "code",
      "metadata": {
        "id": "Jv0Y5WgdS217",
        "outputId": "1467094d-cae4-4c28-f38b-f49121884395",
        "colab": {
          "base_uri": "https://localhost:8080/",
          "height": 87
        }
      },
      "source": [
        "train_df.sentiment.value_counts()"
      ],
      "execution_count": null,
      "outputs": [
        {
          "output_type": "execute_result",
          "data": {
            "text/plain": [
              "neutral     11117\n",
              "positive     8582\n",
              "negative     7781\n",
              "Name: sentiment, dtype: int64"
            ]
          },
          "metadata": {
            "tags": []
          },
          "execution_count": 15
        }
      ]
    },
    {
      "cell_type": "code",
      "metadata": {
        "id": "XhYq2S3tTEOm"
      },
      "source": [
        "def get_answer_start(context, answer):\n",
        "    len_a = len(answer)\n",
        "    for i, _ in enumerate(context):\n",
        "        if context[i:i+len_a] == answer: return i\n",
        "    raise Exception(\"No overlapping segment found\")"
      ],
      "execution_count": null,
      "outputs": []
    },
    {
      "cell_type": "code",
      "metadata": {
        "id": "27z9C4wLTHyu"
      },
      "source": [
        "def generate_qas_dict(text_id, context, answer, question):\n",
        "    qas_dict = {}\n",
        "    qas_dict['question'] = question\n",
        "    qas_dict['id'] = text_id\n",
        "    qas_dict['is_impossible'] = False\n",
        "    \n",
        "    if answer is None: \n",
        "        qas_dict['answers'] = []\n",
        "    else: \n",
        "        answer_start = get_answer_start(context, answer)\n",
        "        qas_dict['answers'] = [{\"text\":answer, \"answer_start\":answer_start}]\n",
        "    return qas_dict\n"
      ],
      "execution_count": null,
      "outputs": []
    },
    {
      "cell_type": "code",
      "metadata": {
        "id": "xZgcvPmaTKEk"
      },
      "source": [
        "def create_squad_from_df(df):\n",
        "    data_dicts = []\n",
        "    for _, row in df.iterrows():\n",
        "        text_id = row['textID']\n",
        "        context = row['text']\n",
        "        answer =  row['selected_text'] if 'selected_text' in row else None\n",
        "        question = row['sentiment']\n",
        "\n",
        "        qas_dict = generate_qas_dict(text_id, context, answer, question)\n",
        "        data_dict = {\"paragraphs\" : [{\"qas\" : [qas_dict], \"context\":context}]}\n",
        "        data_dict['title'] = text_id\n",
        "        data_dicts.append(data_dict)\n",
        "\n",
        "    return {\"version\": \"v2.0\", \"data\": data_dicts}"
      ],
      "execution_count": null,
      "outputs": []
    },
    {
      "cell_type": "code",
      "metadata": {
        "id": "L-OOFRspTegU",
        "outputId": "789b83a3-f10f-4412-a183-410a30c8adcd",
        "colab": {
          "base_uri": "https://localhost:8080/",
          "height": 201
        }
      },
      "source": [
        "train_no_neutral_df = train_df[train_df.sentiment != 'neutral'].reset_index(drop=True)\n",
        "test_no_neutral_df = test_df[test_df.sentiment != 'neutral'].reset_index(drop=True)\n",
        "train_no_neutral_df.shape, test_no_neutral_df.shape"
      ],
      "execution_count": null,
      "outputs": [
        {
          "output_type": "error",
          "ename": "NameError",
          "evalue": "ignored",
          "traceback": [
            "\u001b[0;31m---------------------------------------------------------------------------\u001b[0m",
            "\u001b[0;31mNameError\u001b[0m                                 Traceback (most recent call last)",
            "\u001b[0;32m<ipython-input-9-f0e4a36b340b>\u001b[0m in \u001b[0;36m<module>\u001b[0;34m()\u001b[0m\n\u001b[0;32m----> 1\u001b[0;31m \u001b[0mtrain_no_neutral_df\u001b[0m \u001b[0;34m=\u001b[0m \u001b[0mtrain_df\u001b[0m\u001b[0;34m[\u001b[0m\u001b[0mtrain_df\u001b[0m\u001b[0;34m.\u001b[0m\u001b[0msentiment\u001b[0m \u001b[0;34m!=\u001b[0m \u001b[0;34m'neutral'\u001b[0m\u001b[0;34m]\u001b[0m\u001b[0;34m.\u001b[0m\u001b[0mreset_index\u001b[0m\u001b[0;34m(\u001b[0m\u001b[0mdrop\u001b[0m\u001b[0;34m=\u001b[0m\u001b[0;32mTrue\u001b[0m\u001b[0;34m)\u001b[0m\u001b[0;34m\u001b[0m\u001b[0;34m\u001b[0m\u001b[0m\n\u001b[0m\u001b[1;32m      2\u001b[0m \u001b[0mtest_no_neutral_df\u001b[0m \u001b[0;34m=\u001b[0m \u001b[0mtest_df\u001b[0m\u001b[0;34m[\u001b[0m\u001b[0mtest_df\u001b[0m\u001b[0;34m.\u001b[0m\u001b[0msentiment\u001b[0m \u001b[0;34m!=\u001b[0m \u001b[0;34m'neutral'\u001b[0m\u001b[0;34m]\u001b[0m\u001b[0;34m.\u001b[0m\u001b[0mreset_index\u001b[0m\u001b[0;34m(\u001b[0m\u001b[0mdrop\u001b[0m\u001b[0;34m=\u001b[0m\u001b[0;32mTrue\u001b[0m\u001b[0;34m)\u001b[0m\u001b[0;34m\u001b[0m\u001b[0;34m\u001b[0m\u001b[0m\n\u001b[1;32m      3\u001b[0m \u001b[0mtrain_no_neutral_df\u001b[0m\u001b[0;34m.\u001b[0m\u001b[0mshape\u001b[0m\u001b[0;34m,\u001b[0m \u001b[0mtest_no_neutral_df\u001b[0m\u001b[0;34m.\u001b[0m\u001b[0mshape\u001b[0m\u001b[0;34m\u001b[0m\u001b[0;34m\u001b[0m\u001b[0m\n",
            "\u001b[0;31mNameError\u001b[0m: name 'train_df' is not defined"
          ]
        }
      ]
    },
    {
      "cell_type": "code",
      "metadata": {
        "id": "aWVCJHeGToOY"
      },
      "source": [
        "from sklearn.model_selection import KFold"
      ],
      "execution_count": null,
      "outputs": []
    },
    {
      "cell_type": "code",
      "metadata": {
        "id": "HOKXDkTCUCZ6"
      },
      "source": [
        "# create 5 fold trn-val splits with only positive/negative tweets\n",
        "os.makedirs(\"squad_data\", exist_ok=True)\n",
        "kfold = KFold(5, shuffle=True, random_state=42)\n",
        "fold_idxs = list(kfold.split(train_no_neutral_df))\n",
        "\n",
        "for i, (trn_idx, val_idx) in enumerate(fold_idxs):\n",
        "    _trn_fold_df = train_no_neutral_df.iloc[trn_idx]\n",
        "    _val_fold_df = train_no_neutral_df.iloc[val_idx]\n",
        "    train_squad_data = create_squad_from_df(_trn_fold_df)\n",
        "    valid_squad_data = create_squad_from_df(_val_fold_df)\n",
        "    with open(f\"squad_data/train_squad_data_{i}.json\", \"w\") as f: f.write(json.dumps(train_squad_data))\n",
        "    with open(f\"squad_data/valid_squad_data_{i}.json\", \"w\") as f: f.write(json.dumps(valid_squad_data))"
      ],
      "execution_count": null,
      "outputs": []
    },
    {
      "cell_type": "code",
      "metadata": {
        "id": "aGu9ZZAoVYXj"
      },
      "source": [
        "# create for test \n",
        "test_squad_data =  create_squad_from_df(test_df)\n",
        "with open(\"squad_data/test_squad_data.json\", \"w\") as f: f.write(json.dumps(test_squad_data))"
      ],
      "execution_count": null,
      "outputs": []
    },
    {
      "cell_type": "code",
      "metadata": {
        "id": "gMJUfly0WjxN"
      },
      "source": [
        "_train_dict = json.loads(open('squad_data/train_squad_data_0.json').read())"
      ],
      "execution_count": null,
      "outputs": []
    },
    {
      "cell_type": "code",
      "metadata": {
        "id": "el92uFglWtOk",
        "outputId": "8e8f4a96-c6f6-4898-b094-7ac2b4ca4bce",
        "colab": {
          "base_uri": "https://localhost:8080/",
          "height": 139
        }
      },
      "source": [
        "sample_idx = np.random.choice(range(len(_train_dict['data'])))\n",
        "_train_dict['data'][sample_idx]"
      ],
      "execution_count": null,
      "outputs": [
        {
          "output_type": "execute_result",
          "data": {
            "text/plain": [
              "{'paragraphs': [{'context': 'thanks so much for the discount code. looking forward to trying your pads out',\n",
              "   'qas': [{'answers': [{'answer_start': 0,\n",
              "       'text': 'thanks so much for the discount code.'}],\n",
              "     'id': '908bbe2865',\n",
              "     'is_impossible': False,\n",
              "     'question': 'positive'}]}],\n",
              " 'title': '908bbe2865'}"
            ]
          },
          "metadata": {
            "tags": []
          },
          "execution_count": 17
        }
      ]
    },
    {
      "cell_type": "code",
      "metadata": {
        "id": "2m9bBKYYWydT"
      },
      "source": [
        "textid = _train_dict['data'][sample_idx]['paragraphs'][0]['qas'][0]['id']"
      ],
      "execution_count": null,
      "outputs": []
    },
    {
      "cell_type": "code",
      "metadata": {
        "id": "kHqx56XxW2tE",
        "outputId": "aff8ace5-e93f-4f7c-b47c-7bfb876f8b4e",
        "colab": {
          "base_uri": "https://localhost:8080/",
          "height": 79
        }
      },
      "source": [
        "train_df[train_df.textID == textid]"
      ],
      "execution_count": null,
      "outputs": [
        {
          "output_type": "execute_result",
          "data": {
            "text/html": [
              "<div>\n",
              "<style scoped>\n",
              "    .dataframe tbody tr th:only-of-type {\n",
              "        vertical-align: middle;\n",
              "    }\n",
              "\n",
              "    .dataframe tbody tr th {\n",
              "        vertical-align: top;\n",
              "    }\n",
              "\n",
              "    .dataframe thead th {\n",
              "        text-align: right;\n",
              "    }\n",
              "</style>\n",
              "<table border=\"1\" class=\"dataframe\">\n",
              "  <thead>\n",
              "    <tr style=\"text-align: right;\">\n",
              "      <th></th>\n",
              "      <th>textID</th>\n",
              "      <th>text</th>\n",
              "      <th>selected_text</th>\n",
              "      <th>sentiment</th>\n",
              "    </tr>\n",
              "  </thead>\n",
              "  <tbody>\n",
              "    <tr>\n",
              "      <th>21173</th>\n",
              "      <td>2d8486baf2</td>\n",
              "      <td>hmm Have to admit was a good episode and his ...</td>\n",
              "      <td>good</td>\n",
              "      <td>positive</td>\n",
              "    </tr>\n",
              "  </tbody>\n",
              "</table>\n",
              "</div>"
            ],
            "text/plain": [
              "           textID  ... sentiment\n",
              "21173  2d8486baf2  ...  positive\n",
              "\n",
              "[1 rows x 4 columns]"
            ]
          },
          "metadata": {
            "tags": []
          },
          "execution_count": 26
        }
      ]
    },
    {
      "cell_type": "code",
      "metadata": {
        "id": "oSQI6igHW5KL"
      },
      "source": [
        "from fastai.text import *\n",
        "from transformers import AutoTokenizer, AutoConfig, AutoModel, AutoModelForQuestionAnswering\n",
        "from transformers.data.processors.squad import SquadResult, SquadV1Processor, SquadV2Processor, SquadExample, squad_convert_examples_to_features"
      ],
      "execution_count": null,
      "outputs": []
    },
    {
      "cell_type": "code",
      "metadata": {
        "id": "lDv8-giSY31N"
      },
      "source": [
        "PRETRAINED_TYPE = 'albert-xlarge-v2'\n",
        "# PRETRAINED_TYPE = 'distilbert-base-uncased'"
      ],
      "execution_count": null,
      "outputs": []
    },
    {
      "cell_type": "code",
      "metadata": {
        "id": "P_rGtFeYdWDh"
      },
      "source": [
        "processor = SquadV2Processor()\n",
        "tokenizer = AutoTokenizer.from_pretrained(PRETRAINED_TYPE, do_lower_case=True)"
      ],
      "execution_count": null,
      "outputs": []
    },
    {
      "cell_type": "code",
      "metadata": {
        "id": "hNTOJSDEdaOq",
        "outputId": "3581a9dd-50c1-4c33-c1f7-a65c97ebf71b",
        "colab": {
          "base_uri": "https://localhost:8080/",
          "height": 35
        }
      },
      "source": [
        "sample_examples = processor.get_train_examples('squad_data', 'train_squad_data_0.json')"
      ],
      "execution_count": null,
      "outputs": [
        {
          "output_type": "stream",
          "text": [
            "100%|██████████| 13090/13090 [00:00<00:00, 30615.80it/s]\n"
          ],
          "name": "stderr"
        }
      ]
    },
    {
      "cell_type": "code",
      "metadata": {
        "id": "2tGLUJlHdjvf",
        "outputId": "a08aa5bb-0974-4dca-b83a-b4846f9327b0",
        "colab": {
          "base_uri": "https://localhost:8080/",
          "height": 87
        }
      },
      "source": [
        "sample_example = sample_examples[sample_idx]\n",
        "sample_example.context_text, sample_example.question_text, sample_example.answer_text, sample_example.qas_id"
      ],
      "execution_count": null,
      "outputs": [
        {
          "output_type": "execute_result",
          "data": {
            "text/plain": [
              "('thanks so much for the discount code. looking forward to trying your pads out',\n",
              " 'positive',\n",
              " 'thanks so much for the discount code.',\n",
              " '908bbe2865')"
            ]
          },
          "metadata": {
            "tags": []
          },
          "execution_count": 20
        }
      ]
    },
    {
      "cell_type": "code",
      "metadata": {
        "id": "_QlLI7-2dpSr"
      },
      "source": [
        "max_seq_length = 192\n",
        "max_query_length = 10\n",
        "\n",
        "def get_dataset(examples, is_training):\n",
        "    return squad_convert_examples_to_features(\n",
        "        examples=examples,\n",
        "        tokenizer=tokenizer,\n",
        "        doc_stride=200,\n",
        "        max_seq_length=max_seq_length,\n",
        "        max_query_length=10,\n",
        "        is_training=is_training,\n",
        "        return_dataset=\"pt\",\n",
        "        threads=defaults.cpus,\n",
        "    )"
      ],
      "execution_count": null,
      "outputs": []
    },
    {
      "cell_type": "code",
      "metadata": {
        "id": "MouffqkbdwUd",
        "outputId": "e19143ad-50ce-46c2-fd00-0deda9a57d30",
        "colab": {
          "base_uri": "https://localhost:8080/",
          "height": 166
        }
      },
      "source": [
        "sample_feature, sample_dataset = get_dataset([sample_example], True)"
      ],
      "execution_count": null,
      "outputs": [
        {
          "output_type": "error",
          "ename": "NameError",
          "evalue": "ignored",
          "traceback": [
            "\u001b[0;31m---------------------------------------------------------------------------\u001b[0m",
            "\u001b[0;31mNameError\u001b[0m                                 Traceback (most recent call last)",
            "\u001b[0;32m<ipython-input-15-37a96c34573d>\u001b[0m in \u001b[0;36m<module>\u001b[0;34m()\u001b[0m\n\u001b[0;32m----> 1\u001b[0;31m \u001b[0msample_feature\u001b[0m\u001b[0;34m,\u001b[0m \u001b[0msample_dataset\u001b[0m \u001b[0;34m=\u001b[0m \u001b[0mget_dataset\u001b[0m\u001b[0;34m(\u001b[0m\u001b[0;34m[\u001b[0m\u001b[0msample_example\u001b[0m\u001b[0;34m]\u001b[0m\u001b[0;34m,\u001b[0m \u001b[0;32mTrue\u001b[0m\u001b[0;34m)\u001b[0m\u001b[0;34m\u001b[0m\u001b[0;34m\u001b[0m\u001b[0m\n\u001b[0m",
            "\u001b[0;31mNameError\u001b[0m: name 'sample_example' is not defined"
          ]
        }
      ]
    },
    {
      "cell_type": "code",
      "metadata": {
        "id": "QKkd_3CXd0ze",
        "outputId": "8749ea25-3505-42ca-9357-912e8c6f9259",
        "colab": {
          "base_uri": "https://localhost:8080/",
          "height": 35
        }
      },
      "source": [
        "start_idx, end_idx = sample_dataset.tensors[3][0].item(), sample_dataset.tensors[4][0].item()\n",
        "tokenizer.convert_ids_to_tokens(sample_dataset.tensors[0][0])[start_idx:end_idx+1]"
      ],
      "execution_count": null,
      "outputs": [
        {
          "output_type": "execute_result",
          "data": {
            "text/plain": [
              "['▁good']"
            ]
          },
          "metadata": {
            "tags": []
          },
          "execution_count": 34
        }
      ]
    },
    {
      "cell_type": "code",
      "metadata": {
        "id": "5S6sRLved5UY"
      },
      "source": [
        "class SQUAD_Dataset(Dataset):\n",
        "    def __init__(self, dataset_tensors, examples, is_training=True):\n",
        "        self.dataset_tensors = dataset_tensors\n",
        "        self.examples = examples\n",
        "        self.is_training = is_training\n",
        "        \n",
        "        \n",
        "    def __getitem__(self, idx):\n",
        "        'fastai requires (xb, yb) to return'\n",
        "        'AutoModel handles loss computation in forward hence yb will be None'\n",
        "        input_ids = self.dataset_tensors[0][idx]\n",
        "        attention_mask = self.dataset_tensors[1][idx]\n",
        "        token_type_ids = self.dataset_tensors[2][idx]\n",
        "        xb = (input_ids, attention_mask, token_type_ids)\n",
        "        if self.is_training: \n",
        "            start_positions = self.dataset_tensors[3][idx]\n",
        "            end_positions = self.dataset_tensors[4][idx]\n",
        "            xb = (input_ids, attention_mask, token_type_ids, start_positions, end_positions)\n",
        "        yb = 0\n",
        "        return xb, yb\n",
        "    \n",
        "    def __len__(self): return len(self.dataset_tensors[0])"
      ],
      "execution_count": null,
      "outputs": []
    },
    {
      "cell_type": "code",
      "metadata": {
        "id": "cLu9ZtPreQYe"
      },
      "source": [
        "def get_fold_ds(foldnum):\n",
        "    data_dir = \"squad_data\"\n",
        "    train_filename = f\"train_squad_data_{foldnum}.json\"\n",
        "    valid_filename = f\"valid_squad_data_{foldnum}.json\"\n",
        "    test_filename = \"test_squad_data.json\"\n",
        "    \n",
        "    # tokenize\n",
        "    train_examples = processor.get_train_examples(data_dir, train_filename)\n",
        "    valid_examples = processor.get_train_examples(data_dir, valid_filename)\n",
        "    test_examples = processor.get_dev_examples(data_dir, test_filename)\n",
        "\n",
        "    # create tensor dataset\n",
        "    train_features, train_dataset = get_dataset(train_examples, True)\n",
        "    valid_features, valid_dataset = get_dataset(valid_examples, True)\n",
        "    test_features, test_dataset = get_dataset(test_examples, False)\n",
        "    \n",
        "    # create pytorch dataset\n",
        "    train_ds = SQUAD_Dataset(train_dataset.tensors, train_examples)\n",
        "    valid_ds = SQUAD_Dataset(valid_dataset.tensors, valid_examples)\n",
        "    test_ds = SQUAD_Dataset(test_dataset.tensors, test_examples, False)\n",
        "    \n",
        "    return train_ds, valid_ds, test_ds    "
      ],
      "execution_count": null,
      "outputs": []
    },
    {
      "cell_type": "code",
      "metadata": {
        "id": "d3atZGByeWMl"
      },
      "source": [
        "from transformers import AutoModelForPreTraining,  AlbertForQuestionAnswering"
      ],
      "execution_count": null,
      "outputs": []
    },
    {
      "cell_type": "code",
      "metadata": {
        "id": "BNrhrJdyeb5v"
      },
      "source": [
        "# MODEL_TYPE = 'distilbert'\n",
        "MODEL_TYPE = 'albert'"
      ],
      "execution_count": null,
      "outputs": []
    },
    {
      "cell_type": "code",
      "metadata": {
        "id": "sw8ZM07felmK",
        "outputId": "9cce43c2-01e5-488e-e573-a8657ca2f70a",
        "colab": {
          "base_uri": "https://localhost:8080/",
          "height": 173
        }
      },
      "source": [
        "train_ds, valid_ds, test_ds  = get_fold_ds(0)"
      ],
      "execution_count": null,
      "outputs": [
        {
          "output_type": "stream",
          "text": [
            "100%|██████████| 13090/13090 [00:00<00:00, 32616.84it/s]\n",
            "100%|██████████| 3273/3273 [00:00<00:00, 14041.23it/s]\n",
            "100%|██████████| 3534/3534 [00:00<00:00, 34611.06it/s]\n",
            "convert squad examples to features: 100%|██████████| 13090/13090 [00:04<00:00, 2618.92it/s]\n",
            "add example index and unique id: 100%|██████████| 13090/13090 [00:00<00:00, 951054.74it/s]\n",
            "convert squad examples to features: 100%|██████████| 3273/3273 [00:01<00:00, 2679.10it/s]\n",
            "add example index and unique id: 100%|██████████| 3273/3273 [00:00<00:00, 891831.16it/s]\n",
            "convert squad examples to features: 100%|██████████| 3534/3534 [00:01<00:00, 2989.09it/s]\n",
            "add example index and unique id: 100%|██████████| 3534/3534 [00:00<00:00, 929262.76it/s]\n"
          ],
          "name": "stderr"
        }
      ]
    },
    {
      "cell_type": "code",
      "metadata": {
        "id": "unX_3QPoerLy"
      },
      "source": [
        "model = AlbertForQuestionAnswering.from_pretrained(PRETRAINED_TYPE)"
      ],
      "execution_count": null,
      "outputs": []
    },
    {
      "cell_type": "code",
      "metadata": {
        "id": "5KhaCWSme7yW"
      },
      "source": [
        "data = DataBunch.create(train_ds, valid_ds, test_ds, path=\".\", bs=3)"
      ],
      "execution_count": null,
      "outputs": []
    },
    {
      "cell_type": "code",
      "metadata": {
        "id": "bCMyZ3VDfDB8"
      },
      "source": [
        "xb,yb = data.one_batch()"
      ],
      "execution_count": null,
      "outputs": []
    },
    {
      "cell_type": "code",
      "metadata": {
        "id": "kFsPukBfuvyH",
        "outputId": "9f2a3461-71fd-462f-d1ed-088dbb3a0d3a",
        "colab": {
          "base_uri": "https://localhost:8080/",
          "height": 35
        }
      },
      "source": [
        "xb[4]"
      ],
      "execution_count": null,
      "outputs": [
        {
          "output_type": "execute_result",
          "data": {
            "text/plain": [
              "tensor([ 4, 19, 21])"
            ]
          },
          "metadata": {
            "tags": []
          },
          "execution_count": 54
        }
      ]
    },
    {
      "cell_type": "code",
      "metadata": {
        "id": "WpbiGvJXfFn_",
        "outputId": "2b05cee5-1b99-461e-8ed4-40a1240d45f9",
        "colab": {
          "base_uri": "https://localhost:8080/",
          "height": 641
        }
      },
      "source": [
        "model"
      ],
      "execution_count": null,
      "outputs": [
        {
          "output_type": "execute_result",
          "data": {
            "text/plain": [
              "AlbertForQuestionAnswering(\n",
              "  (albert): AlbertModel(\n",
              "    (embeddings): AlbertEmbeddings(\n",
              "      (word_embeddings): Embedding(30000, 128, padding_idx=0)\n",
              "      (position_embeddings): Embedding(512, 128)\n",
              "      (token_type_embeddings): Embedding(2, 128)\n",
              "      (LayerNorm): LayerNorm((128,), eps=1e-12, elementwise_affine=True)\n",
              "      (dropout): Dropout(p=0, inplace=False)\n",
              "    )\n",
              "    (encoder): AlbertTransformer(\n",
              "      (embedding_hidden_mapping_in): Linear(in_features=128, out_features=2048, bias=True)\n",
              "      (albert_layer_groups): ModuleList(\n",
              "        (0): AlbertLayerGroup(\n",
              "          (albert_layers): ModuleList(\n",
              "            (0): AlbertLayer(\n",
              "              (full_layer_layer_norm): LayerNorm((2048,), eps=1e-12, elementwise_affine=True)\n",
              "              (attention): AlbertAttention(\n",
              "                (query): Linear(in_features=2048, out_features=2048, bias=True)\n",
              "                (key): Linear(in_features=2048, out_features=2048, bias=True)\n",
              "                (value): Linear(in_features=2048, out_features=2048, bias=True)\n",
              "                (dropout): Dropout(p=0, inplace=False)\n",
              "                (dense): Linear(in_features=2048, out_features=2048, bias=True)\n",
              "                (LayerNorm): LayerNorm((2048,), eps=1e-12, elementwise_affine=True)\n",
              "              )\n",
              "              (ffn): Linear(in_features=2048, out_features=8192, bias=True)\n",
              "              (ffn_output): Linear(in_features=8192, out_features=2048, bias=True)\n",
              "            )\n",
              "          )\n",
              "        )\n",
              "      )\n",
              "    )\n",
              "    (pooler): Linear(in_features=2048, out_features=2048, bias=True)\n",
              "    (pooler_activation): Tanh()\n",
              "  )\n",
              "  (qa_outputs): Linear(in_features=2048, out_features=2, bias=True)\n",
              ")"
            ]
          },
          "metadata": {
            "tags": []
          },
          "execution_count": 43
        }
      ]
    },
    {
      "cell_type": "code",
      "metadata": {
        "id": "GQj3ADBzfKO5"
      },
      "source": [
        "class ModelWrapper(Module):\n",
        "    def __init__(self, model): self.model = model\n",
        "    def forward(self, *xargs):\n",
        "        inp = {}\n",
        "        inp[\"input_ids\"] = xargs[0]\n",
        "        inp[\"attention_mask\"] = xargs[1]\n",
        "        inp[\"token_type_ids\"] = xargs[2]\n",
        "        if len(xargs) == 5: inp[\"start_positions\"], inp[ \"end_positions\"] = xargs[3], xargs[4]\n",
        "        elif len(xargs) == 3: pass\n",
        "        else: raise Exception(f\"Invalid Number of Inputs {len(xargs)}\")\n",
        "        return self.model(**inp)"
      ],
      "execution_count": null,
      "outputs": []
    },
    {
      "cell_type": "code",
      "metadata": {
        "id": "XddvnpgYghaS"
      },
      "source": [
        "tse_model = TSEModel(model)"
      ],
      "execution_count": null,
      "outputs": []
    },
    {
      "cell_type": "code",
      "metadata": {
        "id": "tveXR8d8gloS"
      },
      "source": [
        "loss, start_logits, end_logits = tse_model(*xb)"
      ],
      "execution_count": null,
      "outputs": []
    },
    {
      "cell_type": "code",
      "metadata": {
        "id": "9uIAl1tMgrCq",
        "outputId": "f7d23836-a3ee-48a7-a239-4311b78f22d6",
        "colab": {
          "base_uri": "https://localhost:8080/",
          "height": 35
        }
      },
      "source": [
        "yb"
      ],
      "execution_count": null,
      "outputs": [
        {
          "output_type": "execute_result",
          "data": {
            "text/plain": [
              "[tensor([9, 5]), tensor([11,  5])]"
            ]
          },
          "metadata": {
            "tags": []
          },
          "execution_count": 47
        }
      ]
    },
    {
      "cell_type": "code",
      "metadata": {
        "id": "CMcG4FsGgzrN"
      },
      "source": [
        "class DummyLoss(Module):\n",
        "    'loss is always first argument in model output'\n",
        "    def __init__(self): pass\n",
        "    def forward(self, input, targets): return input[0]"
      ],
      "execution_count": null,
      "outputs": []
    },
    {
      "cell_type": "code",
      "metadata": {
        "id": "Oi5muELbg3OJ"
      },
      "source": [
        "def model_split_func(m): return (m.model.albert.embeddings,\n",
        "              m.model.albert.encoder,               \n",
        "              m.model.albert.pooler,\n",
        "              m.model.qa_outputs)"
      ],
      "execution_count": null,
      "outputs": []
    },
    {
      "cell_type": "code",
      "metadata": {
        "id": "oJZlbfU0ix3x"
      },
      "source": [
        "def jaccard(str1, str2): \n",
        "    a = set(str1.lower().split()) \n",
        "    b = set(str2.lower().split())\n",
        "    c = a.intersection(b)\n",
        "    return float(len(c)) / (len(a) + len(b) - len(c))"
      ],
      "execution_count": null,
      "outputs": []
    },
    {
      "cell_type": "code",
      "metadata": {
        "id": "0ZdITT2DjCnv"
      },
      "source": [
        "def get_best_start_end_idxs(_start_logits, _end_logits):\n",
        "    best_logit = tensor([-1e6]).cuda().half()\n",
        "    best_idxs = None\n",
        "    for start_idx, start_logit in enumerate(_start_logits):\n",
        "        for end_idx, end_logit in enumerate(_end_logits[start_idx:]):\n",
        "            logit_sum = (start_logit + end_logit) \n",
        "            if logit_sum > best_logit:\n",
        "                best_logit = logit_sum\n",
        "                best_idxs = (start_idx, start_idx+end_idx)\n",
        "    return best_idxs"
      ],
      "execution_count": null,
      "outputs": []
    },
    {
      "cell_type": "code",
      "metadata": {
        "id": "vc50i16ejE8E"
      },
      "source": [
        "class JaccardScore(Callback):\n",
        "    \"Stores predictions and targets to perform calculations on epoch end.\"\n",
        "    def __init__(self): \n",
        "        pass\n",
        "        \n",
        "    def on_epoch_begin(self, **kwargs):\n",
        "        self.jaccard_scores = []        \n",
        "\n",
        "    def on_batch_end(self, last_input:Tensor, last_output:Tensor, last_target:Tensor, **kwargs):\n",
        "        \n",
        "        input_ids = last_input[0]\n",
        "        attention_masks = last_input[1].bool()\n",
        "        token_type_ids = last_input[2].bool()\n",
        "        start_positions = last_input[3]\n",
        "        end_positions = last_input[4]\n",
        "        \n",
        "        loss, start_logits, end_logits = last_output\n",
        "        \n",
        "        # mask select only context part\n",
        "        for i in range(len(input_ids)):\n",
        "            _input_ids = input_ids[i].masked_select(token_type_ids[i])\n",
        "            _start_logits = start_logits[i].masked_select(token_type_ids[i])\n",
        "            _end_logits = end_logits[i].masked_select(token_type_ids[i])\n",
        "            _start_pos = start_positions[i].item()\n",
        "            _end_pos = end_positions[i].item()\n",
        "            _answer_text = tokenizer.decode(input_ids[i][_start_pos:_end_pos+1])\n",
        "            best_idxs = get_best_start_end_idxs(_start_logits, _end_logits)\n",
        "            _answer = tokenizer.decode(_input_ids[best_idxs[0]:best_idxs[1]+1])\n",
        "            score = jaccard(_answer, _answer_text)\n",
        "            self.jaccard_scores.append(score)\n",
        "            \n",
        "        \n",
        "    def on_epoch_end(self, last_metrics, **kwargs):        \n",
        "        res = np.mean(self.jaccard_scores)\n",
        "        return add_metrics(last_metrics, res)"
      ],
      "execution_count": null,
      "outputs": []
    },
    {
      "cell_type": "code",
      "metadata": {
        "id": "rvj83CbnjKPw"
      },
      "source": [
        "from fastai.callbacks import *"
      ],
      "execution_count": null,
      "outputs": []
    },
    {
      "cell_type": "code",
      "metadata": {
        "id": "mWLVTghEji3k",
        "outputId": "f5a4d500-f6c1-438a-afd3-c56cea221cf3",
        "colab": {
          "base_uri": "https://localhost:8080/",
          "height": 173
        }
      },
      "source": [
        " train_ds, valid_ds, test_ds = get_fold_ds(0)"
      ],
      "execution_count": null,
      "outputs": [
        {
          "output_type": "stream",
          "text": [
            "100%|██████████| 13090/13090 [00:00<00:00, 19169.05it/s]\n",
            "100%|██████████| 3273/3273 [00:00<00:00, 30632.44it/s]\n",
            "100%|██████████| 3534/3534 [00:00<00:00, 33502.25it/s]\n",
            "convert squad examples to features: 100%|██████████| 13090/13090 [00:04<00:00, 2737.52it/s]\n",
            "add example index and unique id: 100%|██████████| 13090/13090 [00:00<00:00, 915560.88it/s]\n",
            "convert squad examples to features: 100%|██████████| 3273/3273 [00:01<00:00, 2018.89it/s]\n",
            "add example index and unique id: 100%|██████████| 3273/3273 [00:00<00:00, 896022.26it/s]\n",
            "convert squad examples to features: 100%|██████████| 3534/3534 [00:01<00:00, 3010.48it/s]\n",
            "add example index and unique id: 100%|██████████| 3534/3534 [00:00<00:00, 961262.67it/s]\n"
          ],
          "name": "stderr"
        }
      ]
    },
    {
      "cell_type": "code",
      "metadata": {
        "id": "IKBiU35kjnQX"
      },
      "source": [
        "data = DataBunch.create(train_ds, valid_ds, test_ds, path=\".\", bs=16)"
      ],
      "execution_count": null,
      "outputs": []
    },
    {
      "cell_type": "code",
      "metadata": {
        "id": "PkGx9xeqlPc-"
      },
      "source": [
        "transformer_model = AlbertForQuestionAnswering.from_pretrained(PRETRAINED_TYPE)"
      ],
      "execution_count": null,
      "outputs": []
    },
    {
      "cell_type": "code",
      "metadata": {
        "id": "BPHtVD7A0g3B"
      },
      "source": [
        "wrapped_model = ModelWrapper(transformer_model)"
      ],
      "execution_count": null,
      "outputs": []
    },
    {
      "cell_type": "code",
      "metadata": {
        "id": "oRADgJIhlWs0"
      },
      "source": [
        "custom_transformer_model = TSEModel(model = transformer_model)"
      ],
      "execution_count": null,
      "outputs": []
    },
    {
      "cell_type": "code",
      "metadata": {
        "id": "tcrLpCfSkPe6"
      },
      "source": [
        "loss_fn = DummyLoss()"
      ],
      "execution_count": null,
      "outputs": []
    },
    {
      "cell_type": "code",
      "metadata": {
        "id": "Qfw9cuAZdg7w",
        "outputId": "8062c1fe-4f4c-41b5-92ba-315eea875ad7",
        "colab": {
          "base_uri": "https://localhost:8080/",
          "height": 159
        }
      },
      "source": [
        "!pip install torch_optimizer"
      ],
      "execution_count": null,
      "outputs": [
        {
          "output_type": "stream",
          "text": [
            "Collecting torch_optimizer\n",
            "  Downloading https://files.pythonhosted.org/packages/38/8f/8c9fdfb199a8f7e06a16c2315d076aa1505057f2496b7a7f2c73ece66215/torch_optimizer-0.0.1a11-py3-none-any.whl\n",
            "Requirement already satisfied: torch>=1.1.0 in /usr/local/lib/python3.6/dist-packages (from torch_optimizer) (1.4.0)\n",
            "Collecting pytorch-ranger>=0.1.1\n",
            "  Downloading https://files.pythonhosted.org/packages/0d/70/12256257d861bbc3e176130d25be1de085ce7a9e60594064888a950f2154/pytorch_ranger-0.1.1-py3-none-any.whl\n",
            "Installing collected packages: pytorch-ranger, torch-optimizer\n",
            "Successfully installed pytorch-ranger-0.1.1 torch-optimizer-0.0.1a11\n"
          ],
          "name": "stdout"
        }
      ]
    },
    {
      "cell_type": "code",
      "metadata": {
        "id": "Zx8TMNEwdqX8"
      },
      "source": [
        "import torch_optimizer as optim"
      ],
      "execution_count": null,
      "outputs": []
    },
    {
      "cell_type": "code",
      "metadata": {
        "id": "r1or7edud3uq"
      },
      "source": [
        "opt_func_Yogi = partial(optim.Yogi, betas=(0.95, 0.999), eps=1e-6, weight_decay=0)"
      ],
      "execution_count": null,
      "outputs": []
    },
    {
      "cell_type": "code",
      "metadata": {
        "id": "0bVVgH3CGu46"
      },
      "source": [
        "from transformers import AdamW"
      ],
      "execution_count": null,
      "outputs": []
    },
    {
      "cell_type": "code",
      "metadata": {
        "id": "A_fQHBu9G-ji"
      },
      "source": [
        "CustomAdamW = partial(AdamW, correct_bias=False)"
      ],
      "execution_count": null,
      "outputs": []
    },
    {
      "cell_type": "code",
      "metadata": {
        "id": "pR-vNebfkbEA"
      },
      "source": [
        "learner = Learner(data, wrapped_model, loss_func=loss_fn, opt_func = CustomAdamW,metrics=[JaccardScore()], model_dir=f\"models_fold_{0}\")"
      ],
      "execution_count": null,
      "outputs": []
    },
    {
      "cell_type": "code",
      "metadata": {
        "id": "V_LqgqlNmOnk",
        "outputId": "338dcf0b-4283-43dd-bb5b-0396fe331cc1",
        "colab": {
          "base_uri": "https://localhost:8080/",
          "height": 1000
        }
      },
      "source": [
        "learner.split(model_split_func)"
      ],
      "execution_count": null,
      "outputs": [
        {
          "output_type": "execute_result",
          "data": {
            "text/plain": [
              "Learner(data=DataBunch;\n",
              "\n",
              "Train: <__main__.SQUAD_Dataset object at 0x7f529a2b2048>;\n",
              "\n",
              "Valid: <__main__.SQUAD_Dataset object at 0x7f5293686080>;\n",
              "\n",
              "Test: <__main__.SQUAD_Dataset object at 0x7f5294799198>, model=ModelWrapper(\n",
              "  (model): AlbertForQuestionAnswering(\n",
              "    (albert): AlbertModel(\n",
              "      (embeddings): AlbertEmbeddings(\n",
              "        (word_embeddings): Embedding(30000, 128, padding_idx=0)\n",
              "        (position_embeddings): Embedding(512, 128)\n",
              "        (token_type_embeddings): Embedding(2, 128)\n",
              "        (LayerNorm): LayerNorm((128,), eps=1e-12, elementwise_affine=True)\n",
              "        (dropout): Dropout(p=0, inplace=False)\n",
              "      )\n",
              "      (encoder): AlbertTransformer(\n",
              "        (embedding_hidden_mapping_in): Linear(in_features=128, out_features=2048, bias=True)\n",
              "        (albert_layer_groups): ModuleList(\n",
              "          (0): AlbertLayerGroup(\n",
              "            (albert_layers): ModuleList(\n",
              "              (0): AlbertLayer(\n",
              "                (full_layer_layer_norm): LayerNorm((2048,), eps=1e-12, elementwise_affine=True)\n",
              "                (attention): AlbertAttention(\n",
              "                  (query): Linear(in_features=2048, out_features=2048, bias=True)\n",
              "                  (key): Linear(in_features=2048, out_features=2048, bias=True)\n",
              "                  (value): Linear(in_features=2048, out_features=2048, bias=True)\n",
              "                  (dropout): Dropout(p=0, inplace=False)\n",
              "                  (dense): Linear(in_features=2048, out_features=2048, bias=True)\n",
              "                  (LayerNorm): LayerNorm((2048,), eps=1e-12, elementwise_affine=True)\n",
              "                )\n",
              "                (ffn): Linear(in_features=2048, out_features=8192, bias=True)\n",
              "                (ffn_output): Linear(in_features=8192, out_features=2048, bias=True)\n",
              "              )\n",
              "            )\n",
              "          )\n",
              "        )\n",
              "      )\n",
              "      (pooler): Linear(in_features=2048, out_features=2048, bias=True)\n",
              "      (pooler_activation): Tanh()\n",
              "    )\n",
              "    (qa_outputs): Linear(in_features=2048, out_features=2, bias=True)\n",
              "  )\n",
              "), opt_func=functools.partial(<class 'transformers.optimization.AdamW'>, correct_bias=False), loss_func=DummyLoss(), metrics=[JaccardScore], true_wd=True, bn_wd=True, wd=0.01, train_bn=True, path=PosixPath('.'), model_dir='models_fold_0', callback_fns=[functools.partial(<class 'fastai.basic_train.Recorder'>, add_time=True, silent=False)], callbacks=[], layer_groups=[Sequential(\n",
              "  (0): Embedding(30000, 128, padding_idx=0)\n",
              "  (1): Embedding(512, 128)\n",
              "  (2): Embedding(2, 128)\n",
              "  (3): LayerNorm((128,), eps=1e-12, elementwise_affine=True)\n",
              "  (4): Dropout(p=0, inplace=False)\n",
              "), Sequential(\n",
              "  (0): Linear(in_features=128, out_features=2048, bias=True)\n",
              "  (1): LayerNorm((2048,), eps=1e-12, elementwise_affine=True)\n",
              "  (2): Linear(in_features=2048, out_features=2048, bias=True)\n",
              "  (3): Linear(in_features=2048, out_features=2048, bias=True)\n",
              "  (4): Linear(in_features=2048, out_features=2048, bias=True)\n",
              "  (5): Dropout(p=0, inplace=False)\n",
              "  (6): Linear(in_features=2048, out_features=2048, bias=True)\n",
              "  (7): LayerNorm((2048,), eps=1e-12, elementwise_affine=True)\n",
              "  (8): Linear(in_features=2048, out_features=8192, bias=True)\n",
              "  (9): Linear(in_features=8192, out_features=2048, bias=True)\n",
              "), Sequential(\n",
              "  (0): Linear(in_features=2048, out_features=2048, bias=True)\n",
              "  (1): Tanh()\n",
              "), Sequential(\n",
              "  (0): Linear(in_features=2048, out_features=2, bias=True)\n",
              ")], add_time=True, silent=False)"
            ]
          },
          "metadata": {
            "tags": []
          },
          "execution_count": 35
        }
      ]
    },
    {
      "cell_type": "code",
      "metadata": {
        "id": "TRlmH0ZnnVeh"
      },
      "source": [
        "learner.callbacks.append(ShowGraph(learner))"
      ],
      "execution_count": null,
      "outputs": []
    },
    {
      "cell_type": "code",
      "metadata": {
        "id": "w2Aq0ZeleQlU",
        "outputId": "a50bf85a-34d1-408e-dba3-87cf34999497",
        "colab": {
          "base_uri": "https://localhost:8080/",
          "height": 1000
        }
      },
      "source": [
        "learner.to_fp16()"
      ],
      "execution_count": null,
      "outputs": [
        {
          "output_type": "execute_result",
          "data": {
            "text/plain": [
              "Learner(data=DataBunch;\n",
              "\n",
              "Train: <__main__.SQUAD_Dataset object at 0x7f529a2b2048>;\n",
              "\n",
              "Valid: <__main__.SQUAD_Dataset object at 0x7f5293686080>;\n",
              "\n",
              "Test: <__main__.SQUAD_Dataset object at 0x7f5294799198>, model=ModelWrapper(\n",
              "  (model): AlbertForQuestionAnswering(\n",
              "    (albert): AlbertModel(\n",
              "      (embeddings): AlbertEmbeddings(\n",
              "        (word_embeddings): Embedding(30000, 128, padding_idx=0)\n",
              "        (position_embeddings): Embedding(512, 128)\n",
              "        (token_type_embeddings): Embedding(2, 128)\n",
              "        (LayerNorm): LayerNorm((128,), eps=1e-12, elementwise_affine=True)\n",
              "        (dropout): Dropout(p=0, inplace=False)\n",
              "      )\n",
              "      (encoder): AlbertTransformer(\n",
              "        (embedding_hidden_mapping_in): Linear(in_features=128, out_features=2048, bias=True)\n",
              "        (albert_layer_groups): ModuleList(\n",
              "          (0): AlbertLayerGroup(\n",
              "            (albert_layers): ModuleList(\n",
              "              (0): AlbertLayer(\n",
              "                (full_layer_layer_norm): LayerNorm((2048,), eps=1e-12, elementwise_affine=True)\n",
              "                (attention): AlbertAttention(\n",
              "                  (query): Linear(in_features=2048, out_features=2048, bias=True)\n",
              "                  (key): Linear(in_features=2048, out_features=2048, bias=True)\n",
              "                  (value): Linear(in_features=2048, out_features=2048, bias=True)\n",
              "                  (dropout): Dropout(p=0, inplace=False)\n",
              "                  (dense): Linear(in_features=2048, out_features=2048, bias=True)\n",
              "                  (LayerNorm): LayerNorm((2048,), eps=1e-12, elementwise_affine=True)\n",
              "                )\n",
              "                (ffn): Linear(in_features=2048, out_features=8192, bias=True)\n",
              "                (ffn_output): Linear(in_features=8192, out_features=2048, bias=True)\n",
              "              )\n",
              "            )\n",
              "          )\n",
              "        )\n",
              "      )\n",
              "      (pooler): Linear(in_features=2048, out_features=2048, bias=True)\n",
              "      (pooler_activation): Tanh()\n",
              "    )\n",
              "    (qa_outputs): Linear(in_features=2048, out_features=2, bias=True)\n",
              "  )\n",
              "), opt_func=functools.partial(<class 'transformers.optimization.AdamW'>, correct_bias=False), loss_func=DummyLoss(), metrics=[JaccardScore], true_wd=True, bn_wd=True, wd=0.01, train_bn=True, path=PosixPath('.'), model_dir='models_fold_0', callback_fns=[functools.partial(<class 'fastai.basic_train.Recorder'>, add_time=True, silent=False)], callbacks=[ShowGraph\n",
              "learn: Learner(data=DataBunch;\n",
              "\n",
              "Train: <__main__.SQUAD_Dataset object at 0x7f529a2b2048>;\n",
              "\n",
              "Valid: <__main__.SQUAD_Dataset object at 0x7f5293686080>;\n",
              "\n",
              "Test: <__main__.SQUAD_Dataset object at 0x7f5294799198>, model=ModelWrapper(\n",
              "  (model): AlbertForQuestionAnswering(\n",
              "    (albert): AlbertModel(\n",
              "      (embeddings): AlbertEmbeddings(\n",
              "        (word_embeddings): Embedding(30000, 128, padding_idx=0)\n",
              "        (position_embeddings): Embedding(512, 128)\n",
              "        (token_type_embeddings): Embedding(2, 128)\n",
              "        (LayerNorm): LayerNorm((128,), eps=1e-12, elementwise_affine=True)\n",
              "        (dropout): Dropout(p=0, inplace=False)\n",
              "      )\n",
              "      (encoder): AlbertTransformer(\n",
              "        (embedding_hidden_mapping_in): Linear(in_features=128, out_features=2048, bias=True)\n",
              "        (albert_layer_groups): ModuleList(\n",
              "          (0): AlbertLayerGroup(\n",
              "            (albert_layers): ModuleList(\n",
              "              (0): AlbertLayer(\n",
              "                (full_layer_layer_norm): LayerNorm((2048,), eps=1e-12, elementwise_affine=True)\n",
              "                (attention): AlbertAttention(\n",
              "                  (query): Linear(in_features=2048, out_features=2048, bias=True)\n",
              "                  (key): Linear(in_features=2048, out_features=2048, bias=True)\n",
              "                  (value): Linear(in_features=2048, out_features=2048, bias=True)\n",
              "                  (dropout): Dropout(p=0, inplace=False)\n",
              "                  (dense): Linear(in_features=2048, out_features=2048, bias=True)\n",
              "                  (LayerNorm): LayerNorm((2048,), eps=1e-12, elementwise_affine=True)\n",
              "                )\n",
              "                (ffn): Linear(in_features=2048, out_features=8192, bias=True)\n",
              "                (ffn_output): Linear(in_features=8192, out_features=2048, bias=True)\n",
              "              )\n",
              "            )\n",
              "          )\n",
              "        )\n",
              "      )\n",
              "      (pooler): Linear(in_features=2048, out_features=2048, bias=True)\n",
              "      (pooler_activation): Tanh()\n",
              "    )\n",
              "    (qa_outputs): Linear(in_features=2048, out_features=2, bias=True)\n",
              "  )\n",
              "), opt_func=functools.partial(<class 'transformers.optimization.AdamW'>, correct_bias=False), loss_func=DummyLoss(), metrics=[JaccardScore], true_wd=True, bn_wd=True, wd=0.01, train_bn=True, path=PosixPath('.'), model_dir='models_fold_0', callback_fns=[functools.partial(<class 'fastai.basic_train.Recorder'>, add_time=True, silent=False)], callbacks=[...], layer_groups=[Sequential(\n",
              "  (0): Embedding(30000, 128, padding_idx=0)\n",
              "  (1): Embedding(512, 128)\n",
              "  (2): Embedding(2, 128)\n",
              "  (3): LayerNorm((128,), eps=1e-12, elementwise_affine=True)\n",
              "  (4): Dropout(p=0, inplace=False)\n",
              "), Sequential(\n",
              "  (0): Linear(in_features=128, out_features=2048, bias=True)\n",
              "  (1): LayerNorm((2048,), eps=1e-12, elementwise_affine=True)\n",
              "  (2): Linear(in_features=2048, out_features=2048, bias=True)\n",
              "  (3): Linear(in_features=2048, out_features=2048, bias=True)\n",
              "  (4): Linear(in_features=2048, out_features=2048, bias=True)\n",
              "  (5): Dropout(p=0, inplace=False)\n",
              "  (6): Linear(in_features=2048, out_features=2048, bias=True)\n",
              "  (7): LayerNorm((2048,), eps=1e-12, elementwise_affine=True)\n",
              "  (8): Linear(in_features=2048, out_features=8192, bias=True)\n",
              "  (9): Linear(in_features=8192, out_features=2048, bias=True)\n",
              "), Sequential(\n",
              "  (0): Linear(in_features=2048, out_features=2048, bias=True)\n",
              "  (1): Tanh()\n",
              "), Sequential(\n",
              "  (0): Linear(in_features=2048, out_features=2, bias=True)\n",
              ")], add_time=True, silent=False), MixedPrecision\n",
              "learn: Learner(data=DataBunch;\n",
              "\n",
              "Train: <__main__.SQUAD_Dataset object at 0x7f529a2b2048>;\n",
              "\n",
              "Valid: <__main__.SQUAD_Dataset object at 0x7f5293686080>;\n",
              "\n",
              "Test: <__main__.SQUAD_Dataset object at 0x7f5294799198>, model=ModelWrapper(\n",
              "  (model): AlbertForQuestionAnswering(\n",
              "    (albert): AlbertModel(\n",
              "      (embeddings): AlbertEmbeddings(\n",
              "        (word_embeddings): Embedding(30000, 128, padding_idx=0)\n",
              "        (position_embeddings): Embedding(512, 128)\n",
              "        (token_type_embeddings): Embedding(2, 128)\n",
              "        (LayerNorm): LayerNorm((128,), eps=1e-12, elementwise_affine=True)\n",
              "        (dropout): Dropout(p=0, inplace=False)\n",
              "      )\n",
              "      (encoder): AlbertTransformer(\n",
              "        (embedding_hidden_mapping_in): Linear(in_features=128, out_features=2048, bias=True)\n",
              "        (albert_layer_groups): ModuleList(\n",
              "          (0): AlbertLayerGroup(\n",
              "            (albert_layers): ModuleList(\n",
              "              (0): AlbertLayer(\n",
              "                (full_layer_layer_norm): LayerNorm((2048,), eps=1e-12, elementwise_affine=True)\n",
              "                (attention): AlbertAttention(\n",
              "                  (query): Linear(in_features=2048, out_features=2048, bias=True)\n",
              "                  (key): Linear(in_features=2048, out_features=2048, bias=True)\n",
              "                  (value): Linear(in_features=2048, out_features=2048, bias=True)\n",
              "                  (dropout): Dropout(p=0, inplace=False)\n",
              "                  (dense): Linear(in_features=2048, out_features=2048, bias=True)\n",
              "                  (LayerNorm): LayerNorm((2048,), eps=1e-12, elementwise_affine=True)\n",
              "                )\n",
              "                (ffn): Linear(in_features=2048, out_features=8192, bias=True)\n",
              "                (ffn_output): Linear(in_features=8192, out_features=2048, bias=True)\n",
              "              )\n",
              "            )\n",
              "          )\n",
              "        )\n",
              "      )\n",
              "      (pooler): Linear(in_features=2048, out_features=2048, bias=True)\n",
              "      (pooler_activation): Tanh()\n",
              "    )\n",
              "    (qa_outputs): Linear(in_features=2048, out_features=2, bias=True)\n",
              "  )\n",
              "), opt_func=functools.partial(<class 'transformers.optimization.AdamW'>, correct_bias=False), loss_func=DummyLoss(), metrics=[JaccardScore], true_wd=True, bn_wd=True, wd=0.01, train_bn=True, path=PosixPath('.'), model_dir='models_fold_0', callback_fns=[functools.partial(<class 'fastai.basic_train.Recorder'>, add_time=True, silent=False)], callbacks=[...], layer_groups=[Sequential(\n",
              "  (0): Embedding(30000, 128, padding_idx=0)\n",
              "  (1): Embedding(512, 128)\n",
              "  (2): Embedding(2, 128)\n",
              "  (3): LayerNorm((128,), eps=1e-12, elementwise_affine=True)\n",
              "  (4): Dropout(p=0, inplace=False)\n",
              "), Sequential(\n",
              "  (0): Linear(in_features=128, out_features=2048, bias=True)\n",
              "  (1): LayerNorm((2048,), eps=1e-12, elementwise_affine=True)\n",
              "  (2): Linear(in_features=2048, out_features=2048, bias=True)\n",
              "  (3): Linear(in_features=2048, out_features=2048, bias=True)\n",
              "  (4): Linear(in_features=2048, out_features=2048, bias=True)\n",
              "  (5): Dropout(p=0, inplace=False)\n",
              "  (6): Linear(in_features=2048, out_features=2048, bias=True)\n",
              "  (7): LayerNorm((2048,), eps=1e-12, elementwise_affine=True)\n",
              "  (8): Linear(in_features=2048, out_features=8192, bias=True)\n",
              "  (9): Linear(in_features=8192, out_features=2048, bias=True)\n",
              "), Sequential(\n",
              "  (0): Linear(in_features=2048, out_features=2048, bias=True)\n",
              "  (1): Tanh()\n",
              "), Sequential(\n",
              "  (0): Linear(in_features=2048, out_features=2, bias=True)\n",
              ")], add_time=True, silent=False)\n",
              "loss_scale: 65536\n",
              "max_noskip: 1000\n",
              "dynamic: True\n",
              "clip: None\n",
              "flat_master: False\n",
              "max_scale: 16777216\n",
              "loss_fp32: True], layer_groups=[Sequential(\n",
              "  (0): Embedding(30000, 128, padding_idx=0)\n",
              "  (1): Embedding(512, 128)\n",
              "  (2): Embedding(2, 128)\n",
              "  (3): LayerNorm((128,), eps=1e-12, elementwise_affine=True)\n",
              "  (4): Dropout(p=0, inplace=False)\n",
              "), Sequential(\n",
              "  (0): Linear(in_features=128, out_features=2048, bias=True)\n",
              "  (1): LayerNorm((2048,), eps=1e-12, elementwise_affine=True)\n",
              "  (2): Linear(in_features=2048, out_features=2048, bias=True)\n",
              "  (3): Linear(in_features=2048, out_features=2048, bias=True)\n",
              "  (4): Linear(in_features=2048, out_features=2048, bias=True)\n",
              "  (5): Dropout(p=0, inplace=False)\n",
              "  (6): Linear(in_features=2048, out_features=2048, bias=True)\n",
              "  (7): LayerNorm((2048,), eps=1e-12, elementwise_affine=True)\n",
              "  (8): Linear(in_features=2048, out_features=8192, bias=True)\n",
              "  (9): Linear(in_features=8192, out_features=2048, bias=True)\n",
              "), Sequential(\n",
              "  (0): Linear(in_features=2048, out_features=2048, bias=True)\n",
              "  (1): Tanh()\n",
              "), Sequential(\n",
              "  (0): Linear(in_features=2048, out_features=2, bias=True)\n",
              ")], add_time=True, silent=False)"
            ]
          },
          "metadata": {
            "tags": []
          },
          "execution_count": 37
        }
      ]
    },
    {
      "cell_type": "code",
      "metadata": {
        "id": "poxHzbNan4VT"
      },
      "source": [
        "learner.save('untrainfinetune')"
      ],
      "execution_count": null,
      "outputs": []
    },
    {
      "cell_type": "code",
      "metadata": {
        "id": "IYPBywLpoOv2"
      },
      "source": [
        "learner.load('untrainfinetune');"
      ],
      "execution_count": null,
      "outputs": []
    },
    {
      "cell_type": "code",
      "metadata": {
        "id": "N6DgtgtVoS4K"
      },
      "source": [
        "learner.freeze_to(-1)"
      ],
      "execution_count": null,
      "outputs": []
    },
    {
      "cell_type": "code",
      "metadata": {
        "id": "nagy8WaRobvJ"
      },
      "source": [
        "early_stop_cb = EarlyStoppingCallback(learner, monitor='jaccard_score',mode='max',patience=2)\n",
        "save_model_cb = SaveModelCallback(learner,every='improvement',monitor='jaccard_score',name='albert-qa-finetunethirdcycle_fold0')"
      ],
      "execution_count": null,
      "outputs": []
    },
    {
      "cell_type": "code",
      "metadata": {
        "id": "RRMo-K819twZ"
      },
      "source": [
        "learner.data = data"
      ],
      "execution_count": null,
      "outputs": []
    },
    {
      "cell_type": "code",
      "metadata": {
        "id": "XCRIIEPeo6XV",
        "outputId": "11ff1582-267a-4b6d-ed3c-3fedd9254db2",
        "colab": {
          "base_uri": "https://localhost:8080/",
          "height": 112
        }
      },
      "source": [
        "learner.lr_find()"
      ],
      "execution_count": null,
      "outputs": [
        {
          "output_type": "display_data",
          "data": {
            "text/html": [
              "\n",
              "    <div>\n",
              "        <style>\n",
              "            /* Turns off some styling */\n",
              "            progress {\n",
              "                /* gets rid of default border in Firefox and Opera. */\n",
              "                border: none;\n",
              "                /* Needs to be in here for Safari polyfill so background images work as expected. */\n",
              "                background-size: auto;\n",
              "            }\n",
              "            .progress-bar-interrupted, .progress-bar-interrupted::-webkit-progress-bar {\n",
              "                background: #F44336;\n",
              "            }\n",
              "        </style>\n",
              "      <progress value='0' class='' max='1' style='width:300px; height:20px; vertical-align: middle;'></progress>\n",
              "      0.00% [0/1 00:00<00:00]\n",
              "    </div>\n",
              "    \n",
              "<table border=\"1\" class=\"dataframe\">\n",
              "  <thead>\n",
              "    <tr style=\"text-align: left;\">\n",
              "      <th>epoch</th>\n",
              "      <th>train_loss</th>\n",
              "      <th>valid_loss</th>\n",
              "      <th>jaccard_score</th>\n",
              "      <th>time</th>\n",
              "    </tr>\n",
              "  </thead>\n",
              "  <tbody>\n",
              "  </tbody>\n",
              "</table><p>\n",
              "\n",
              "    <div>\n",
              "        <style>\n",
              "            /* Turns off some styling */\n",
              "            progress {\n",
              "                /* gets rid of default border in Firefox and Opera. */\n",
              "                border: none;\n",
              "                /* Needs to be in here for Safari polyfill so background images work as expected. */\n",
              "                background-size: auto;\n",
              "            }\n",
              "            .progress-bar-interrupted, .progress-bar-interrupted::-webkit-progress-bar {\n",
              "                background: #F44336;\n",
              "            }\n",
              "        </style>\n",
              "      <progress value='99' class='' max='102' style='width:300px; height:20px; vertical-align: middle;'></progress>\n",
              "      97.06% [99/102 12:29<00:22 15.9250]\n",
              "    </div>\n",
              "    "
            ],
            "text/plain": [
              "<IPython.core.display.HTML object>"
            ]
          },
          "metadata": {
            "tags": []
          }
        },
        {
          "output_type": "stream",
          "text": [
            "LR Finder is complete, type {learner_name}.recorder.plot() to see the graph.\n"
          ],
          "name": "stdout"
        }
      ]
    },
    {
      "cell_type": "code",
      "metadata": {
        "id": "qpF8k8ak-kVe",
        "outputId": "eb8d944f-dc0b-45b7-f510-c5d080d59ff2",
        "colab": {
          "base_uri": "https://localhost:8080/",
          "height": 314
        }
      },
      "source": [
        "learner.recorder.plot(suggestion = True)"
      ],
      "execution_count": null,
      "outputs": [
        {
          "output_type": "stream",
          "text": [
            "Min numerical gradient: 1.74E-03\n",
            "Min loss divided by 10: 1.10E-03\n"
          ],
          "name": "stdout"
        },
        {
          "output_type": "display_data",
          "data": {
            "image/png": "[encoded data removed]",
            "text/plain": [
              "<Figure size 432x288 with 1 Axes>"
            ]
          },
          "metadata": {
            "tags": [],
            "needs_background": "light"
          }
        }
      ]
    },
    {
      "cell_type": "code",
      "metadata": {
        "id": "rFUK_r8sA0SP"
      },
      "source": [
        "lr = 2e-3"
      ],
      "execution_count": null,
      "outputs": []
    },
    {
      "cell_type": "code",
      "metadata": {
        "id": "boR4Rl5bA56v",
        "outputId": "d052c28e-cace-4b0b-f701-33fcebc6ca92",
        "colab": {
          "base_uri": "https://localhost:8080/",
          "height": 519
        }
      },
      "source": [
        "learner.fit_one_cycle(5, lr, callbacks=[early_stop_cb, save_model_cb])"
      ],
      "execution_count": null,
      "outputs": [
        {
          "output_type": "display_data",
          "data": {
            "text/html": [
              "<table border=\"1\" class=\"dataframe\">\n",
              "  <thead>\n",
              "    <tr style=\"text-align: left;\">\n",
              "      <th>epoch</th>\n",
              "      <th>train_loss</th>\n",
              "      <th>valid_loss</th>\n",
              "      <th>jaccard_score</th>\n",
              "      <th>time</th>\n",
              "    </tr>\n",
              "  </thead>\n",
              "  <tbody>\n",
              "    <tr>\n",
              "      <td>0</td>\n",
              "      <td>3.028645</td>\n",
              "      <td>2.381390</td>\n",
              "      <td>0.356009</td>\n",
              "      <td>16:44</td>\n",
              "    </tr>\n",
              "    <tr>\n",
              "      <td>1</td>\n",
              "      <td>2.298399</td>\n",
              "      <td>2.124851</td>\n",
              "      <td>0.376519</td>\n",
              "      <td>16:45</td>\n",
              "    </tr>\n",
              "    <tr>\n",
              "      <td>2</td>\n",
              "      <td>2.114939</td>\n",
              "      <td>2.064876</td>\n",
              "      <td>0.389360</td>\n",
              "      <td>16:45</td>\n",
              "    </tr>\n",
              "    <tr>\n",
              "      <td>3</td>\n",
              "      <td>2.050017</td>\n",
              "      <td>2.044089</td>\n",
              "      <td>0.393216</td>\n",
              "      <td>16:45</td>\n",
              "    </tr>\n",
              "    <tr>\n",
              "      <td>4</td>\n",
              "      <td>2.038051</td>\n",
              "      <td>2.039954</td>\n",
              "      <td>0.392363</td>\n",
              "      <td>16:46</td>\n",
              "    </tr>\n",
              "  </tbody>\n",
              "</table>"
            ],
            "text/plain": [
              "<IPython.core.display.HTML object>"
            ]
          },
          "metadata": {
            "tags": []
          }
        },
        {
          "output_type": "display_data",
          "data": {
            "image/png": "[encoded data removed]",
            "text/plain": [
              "<Figure size 432x288 with 1 Axes>"
            ]
          },
          "metadata": {
            "tags": []
          }
        },
        {
          "output_type": "stream",
          "text": [
            "Better model found at epoch 0 with jaccard_score value: 0.3560087327406398.\n",
            "Better model found at epoch 1 with jaccard_score value: 0.37651866927206323.\n",
            "Better model found at epoch 2 with jaccard_score value: 0.389359597702522.\n",
            "Better model found at epoch 3 with jaccard_score value: 0.3932155731682105.\n"
          ],
          "name": "stdout"
        }
      ]
    },
    {
      "cell_type": "code",
      "metadata": {
        "id": "7jFZ_tI1tLvM",
        "outputId": "5d423e8a-c53d-4a67-f94e-681afd53883d",
        "colab": {
          "base_uri": "https://localhost:8080/",
          "height": 311
        }
      },
      "source": [
        "learner.predict('This is such a nice day')"
      ],
      "execution_count": null,
      "outputs": [
        {
          "output_type": "error",
          "ename": "AttributeError",
          "evalue": "ignored",
          "traceback": [
            "\u001b[0;31m---------------------------------------------------------------------------\u001b[0m",
            "\u001b[0;31mAttributeError\u001b[0m                            Traceback (most recent call last)",
            "\u001b[0;32m<ipython-input-75-dd442a5efa8b>\u001b[0m in \u001b[0;36m<module>\u001b[0;34m()\u001b[0m\n\u001b[0;32m----> 1\u001b[0;31m \u001b[0mlearner\u001b[0m\u001b[0;34m.\u001b[0m\u001b[0mpredict\u001b[0m\u001b[0;34m(\u001b[0m\u001b[0;34m'This is such a nice day'\u001b[0m\u001b[0;34m)\u001b[0m\u001b[0;34m\u001b[0m\u001b[0;34m\u001b[0m\u001b[0m\n\u001b[0m",
            "\u001b[0;32m/usr/local/lib/python3.6/dist-packages/fastai/basic_train.py\u001b[0m in \u001b[0;36mpredict\u001b[0;34m(self, item, return_x, batch_first, with_dropout, **kwargs)\u001b[0m\n\u001b[1;32m    370\u001b[0m     \u001b[0;32mdef\u001b[0m \u001b[0mpredict\u001b[0m\u001b[0;34m(\u001b[0m\u001b[0mself\u001b[0m\u001b[0;34m,\u001b[0m \u001b[0mitem\u001b[0m\u001b[0;34m:\u001b[0m\u001b[0mItemBase\u001b[0m\u001b[0;34m,\u001b[0m \u001b[0mreturn_x\u001b[0m\u001b[0;34m:\u001b[0m\u001b[0mbool\u001b[0m\u001b[0;34m=\u001b[0m\u001b[0;32mFalse\u001b[0m\u001b[0;34m,\u001b[0m \u001b[0mbatch_first\u001b[0m\u001b[0;34m:\u001b[0m\u001b[0mbool\u001b[0m\u001b[0;34m=\u001b[0m\u001b[0;32mTrue\u001b[0m\u001b[0;34m,\u001b[0m \u001b[0mwith_dropout\u001b[0m\u001b[0;34m:\u001b[0m\u001b[0mbool\u001b[0m\u001b[0;34m=\u001b[0m\u001b[0;32mFalse\u001b[0m\u001b[0;34m,\u001b[0m \u001b[0;34m**\u001b[0m\u001b[0mkwargs\u001b[0m\u001b[0;34m)\u001b[0m\u001b[0;34m:\u001b[0m\u001b[0;34m\u001b[0m\u001b[0;34m\u001b[0m\u001b[0m\n\u001b[1;32m    371\u001b[0m         \u001b[0;34m\"Return predicted class, label and probabilities for `item`.\"\u001b[0m\u001b[0;34m\u001b[0m\u001b[0;34m\u001b[0m\u001b[0m\n\u001b[0;32m--> 372\u001b[0;31m         \u001b[0mbatch\u001b[0m \u001b[0;34m=\u001b[0m \u001b[0mself\u001b[0m\u001b[0;34m.\u001b[0m\u001b[0mdata\u001b[0m\u001b[0;34m.\u001b[0m\u001b[0mone_item\u001b[0m\u001b[0;34m(\u001b[0m\u001b[0mitem\u001b[0m\u001b[0;34m)\u001b[0m\u001b[0;34m\u001b[0m\u001b[0;34m\u001b[0m\u001b[0m\n\u001b[0m\u001b[1;32m    373\u001b[0m         \u001b[0mres\u001b[0m \u001b[0;34m=\u001b[0m \u001b[0mself\u001b[0m\u001b[0;34m.\u001b[0m\u001b[0mpred_batch\u001b[0m\u001b[0;34m(\u001b[0m\u001b[0mbatch\u001b[0m\u001b[0;34m=\u001b[0m\u001b[0mbatch\u001b[0m\u001b[0;34m,\u001b[0m \u001b[0mwith_dropout\u001b[0m\u001b[0;34m=\u001b[0m\u001b[0mwith_dropout\u001b[0m\u001b[0;34m)\u001b[0m\u001b[0;34m\u001b[0m\u001b[0;34m\u001b[0m\u001b[0m\n\u001b[1;32m    374\u001b[0m         \u001b[0mraw_pred\u001b[0m\u001b[0;34m,\u001b[0m\u001b[0mx\u001b[0m \u001b[0;34m=\u001b[0m \u001b[0mgrab_idx\u001b[0m\u001b[0;34m(\u001b[0m\u001b[0mres\u001b[0m\u001b[0;34m,\u001b[0m\u001b[0;36m0\u001b[0m\u001b[0;34m,\u001b[0m\u001b[0mbatch_first\u001b[0m\u001b[0;34m=\u001b[0m\u001b[0mbatch_first\u001b[0m\u001b[0;34m)\u001b[0m\u001b[0;34m,\u001b[0m\u001b[0mbatch\u001b[0m\u001b[0;34m[\u001b[0m\u001b[0;36m0\u001b[0m\u001b[0;34m]\u001b[0m\u001b[0;34m\u001b[0m\u001b[0;34m\u001b[0m\u001b[0m\n",
            "\u001b[0;32m/usr/local/lib/python3.6/dist-packages/fastai/basic_data.py\u001b[0m in \u001b[0;36mone_item\u001b[0;34m(self, item, detach, denorm, cpu)\u001b[0m\n\u001b[1;32m    179\u001b[0m         \u001b[0;34m\"Get `item` into a batch. Optionally `detach` and `denorm`.\"\u001b[0m\u001b[0;34m\u001b[0m\u001b[0;34m\u001b[0m\u001b[0m\n\u001b[1;32m    180\u001b[0m         \u001b[0mds\u001b[0m \u001b[0;34m=\u001b[0m \u001b[0mself\u001b[0m\u001b[0;34m.\u001b[0m\u001b[0msingle_ds\u001b[0m\u001b[0;34m\u001b[0m\u001b[0;34m\u001b[0m\u001b[0m\n\u001b[0;32m--> 181\u001b[0;31m         \u001b[0;32mwith\u001b[0m \u001b[0mds\u001b[0m\u001b[0;34m.\u001b[0m\u001b[0mset_item\u001b[0m\u001b[0;34m(\u001b[0m\u001b[0mitem\u001b[0m\u001b[0;34m)\u001b[0m\u001b[0;34m:\u001b[0m\u001b[0;34m\u001b[0m\u001b[0;34m\u001b[0m\u001b[0m\n\u001b[0m\u001b[1;32m    182\u001b[0m             \u001b[0;32mreturn\u001b[0m \u001b[0mself\u001b[0m\u001b[0;34m.\u001b[0m\u001b[0mone_batch\u001b[0m\u001b[0;34m(\u001b[0m\u001b[0mds_type\u001b[0m\u001b[0;34m=\u001b[0m\u001b[0mDatasetType\u001b[0m\u001b[0;34m.\u001b[0m\u001b[0mSingle\u001b[0m\u001b[0;34m,\u001b[0m \u001b[0mdetach\u001b[0m\u001b[0;34m=\u001b[0m\u001b[0mdetach\u001b[0m\u001b[0;34m,\u001b[0m \u001b[0mdenorm\u001b[0m\u001b[0;34m=\u001b[0m\u001b[0mdenorm\u001b[0m\u001b[0;34m,\u001b[0m \u001b[0mcpu\u001b[0m\u001b[0;34m=\u001b[0m\u001b[0mcpu\u001b[0m\u001b[0;34m)\u001b[0m\u001b[0;34m\u001b[0m\u001b[0;34m\u001b[0m\u001b[0m\n\u001b[1;32m    183\u001b[0m \u001b[0;34m\u001b[0m\u001b[0m\n",
            "\u001b[0;31mAttributeError\u001b[0m: 'SQUAD_Dataset' object has no attribute 'set_item'"
          ]
        }
      ]
    },
    {
      "cell_type": "code",
      "metadata": {
        "id": "lwV_PdQrK8k-"
      },
      "source": [
        "learner.load('albert-qa-finetune_fold0');"
      ],
      "execution_count": null,
      "outputs": []
    },
    {
      "cell_type": "code",
      "metadata": {
        "id": "ST_LcNUG171v"
      },
      "source": [
        "learner.freeze_to(-2)"
      ],
      "execution_count": null,
      "outputs": []
    },
    {
      "cell_type": "code",
      "metadata": {
        "id": "W3Cr1Mv52B5Z",
        "outputId": "c3971b5d-9242-40dd-aa39-d39ba68134f0",
        "colab": {
          "base_uri": "https://localhost:8080/",
          "height": 112
        }
      },
      "source": [
        "learner.lr_find()"
      ],
      "execution_count": null,
      "outputs": [
        {
          "output_type": "display_data",
          "data": {
            "text/html": [
              "\n",
              "    <div>\n",
              "        <style>\n",
              "            /* Turns off some styling */\n",
              "            progress {\n",
              "                /* gets rid of default border in Firefox and Opera. */\n",
              "                border: none;\n",
              "                /* Needs to be in here for Safari polyfill so background images work as expected. */\n",
              "                background-size: auto;\n",
              "            }\n",
              "            .progress-bar-interrupted, .progress-bar-interrupted::-webkit-progress-bar {\n",
              "                background: #F44336;\n",
              "            }\n",
              "        </style>\n",
              "      <progress value='0' class='' max='1' style='width:300px; height:20px; vertical-align: middle;'></progress>\n",
              "      0.00% [0/1 00:00<00:00]\n",
              "    </div>\n",
              "    \n",
              "<table border=\"1\" class=\"dataframe\">\n",
              "  <thead>\n",
              "    <tr style=\"text-align: left;\">\n",
              "      <th>epoch</th>\n",
              "      <th>train_loss</th>\n",
              "      <th>valid_loss</th>\n",
              "      <th>jaccard_score</th>\n",
              "      <th>time</th>\n",
              "    </tr>\n",
              "  </thead>\n",
              "  <tbody>\n",
              "  </tbody>\n",
              "</table><p>\n",
              "\n",
              "    <div>\n",
              "        <style>\n",
              "            /* Turns off some styling */\n",
              "            progress {\n",
              "                /* gets rid of default border in Firefox and Opera. */\n",
              "                border: none;\n",
              "                /* Needs to be in here for Safari polyfill so background images work as expected. */\n",
              "                background-size: auto;\n",
              "            }\n",
              "            .progress-bar-interrupted, .progress-bar-interrupted::-webkit-progress-bar {\n",
              "                background: #F44336;\n",
              "            }\n",
              "        </style>\n",
              "      <progress value='91' class='' max='102' style='width:300px; height:20px; vertical-align: middle;'></progress>\n",
              "      89.22% [91/102 11:28<01:23 7.3743]\n",
              "    </div>\n",
              "    "
            ],
            "text/plain": [
              "<IPython.core.display.HTML object>"
            ]
          },
          "metadata": {
            "tags": []
          }
        },
        {
          "output_type": "stream",
          "text": [
            "LR Finder is complete, type {learner_name}.recorder.plot() to see the graph.\n"
          ],
          "name": "stdout"
        }
      ]
    },
    {
      "cell_type": "code",
      "metadata": {
        "id": "B9VuqHwU2IXf",
        "outputId": "0c73f10f-90ba-4812-af73-35a405eeb22e",
        "colab": {
          "base_uri": "https://localhost:8080/",
          "height": 314
        }
      },
      "source": [
        "learner.recorder.plot(suggestion = True)"
      ],
      "execution_count": null,
      "outputs": [
        {
          "output_type": "stream",
          "text": [
            "Min numerical gradient: 2.29E-06\n",
            "Min loss divided by 10: 7.59E-08\n"
          ],
          "name": "stdout"
        },
        {
          "output_type": "display_data",
          "data": {
            "image/png": "[encoded data removed]",
            "text/plain": [
              "<Figure size 432x288 with 1 Axes>"
            ]
          },
          "metadata": {
            "tags": [],
            "needs_background": "light"
          }
        }
      ]
    },
    {
      "cell_type": "code",
      "metadata": {
        "id": "8dp1JiJU6fns"
      },
      "source": [
        "lr = 1e-6"
      ],
      "execution_count": null,
      "outputs": []
    },
    {
      "cell_type": "code",
      "metadata": {
        "id": "KQB0UDmB5BfS",
        "outputId": "e6170911-a143-491c-9190-ea2c3629b136",
        "colab": {
          "base_uri": "https://localhost:8080/",
          "height": 406
        }
      },
      "source": [
        "learner.fit_one_cycle(3, max_lr=slice(lr*0.95**5, lr), moms=(0.8, 0.9), callbacks=[early_stop_cb, save_model_cb])"
      ],
      "execution_count": null,
      "outputs": [
        {
          "output_type": "display_data",
          "data": {
            "text/html": [
              "<table border=\"1\" class=\"dataframe\">\n",
              "  <thead>\n",
              "    <tr style=\"text-align: left;\">\n",
              "      <th>epoch</th>\n",
              "      <th>train_loss</th>\n",
              "      <th>valid_loss</th>\n",
              "      <th>jaccard_score</th>\n",
              "      <th>time</th>\n",
              "    </tr>\n",
              "  </thead>\n",
              "  <tbody>\n",
              "    <tr>\n",
              "      <td>0</td>\n",
              "      <td>2.025366</td>\n",
              "      <td>2.043937</td>\n",
              "      <td>0.393728</td>\n",
              "      <td>16:45</td>\n",
              "    </tr>\n",
              "    <tr>\n",
              "      <td>1</td>\n",
              "      <td>2.027895</td>\n",
              "      <td>2.043708</td>\n",
              "      <td>0.393682</td>\n",
              "      <td>16:45</td>\n",
              "    </tr>\n",
              "    <tr>\n",
              "      <td>2</td>\n",
              "      <td>2.031791</td>\n",
              "      <td>2.043478</td>\n",
              "      <td>0.393682</td>\n",
              "      <td>16:45</td>\n",
              "    </tr>\n",
              "  </tbody>\n",
              "</table>"
            ],
            "text/plain": [
              "<IPython.core.display.HTML object>"
            ]
          },
          "metadata": {
            "tags": []
          }
        },
        {
          "output_type": "display_data",
          "data": {
            "image/png": "[encoded data removed]",
            "text/plain": [
              "<Figure size 432x288 with 1 Axes>"
            ]
          },
          "metadata": {
            "tags": []
          }
        },
        {
          "output_type": "stream",
          "text": [
            "Better model found at epoch 0 with jaccard_score value: 0.3937279993424688.\n"
          ],
          "name": "stdout"
        }
      ]
    },
    {
      "cell_type": "code",
      "metadata": {
        "id": "fsdtVNKyIM_-",
        "outputId": "cf2c2cbe-5eff-4e2b-bb25-e998469dd42e",
        "colab": {
          "base_uri": "https://localhost:8080/",
          "height": 1000
        }
      },
      "source": [
        "learner.load('albert-qa-finetunesecondcycle_fold0')"
      ],
      "execution_count": null,
      "outputs": [
        {
          "output_type": "execute_result",
          "data": {
            "text/plain": [
              "Learner(data=DataBunch;\n",
              "\n",
              "Train: <__main__.SQUAD_Dataset object at 0x7f529a2b2048>;\n",
              "\n",
              "Valid: <__main__.SQUAD_Dataset object at 0x7f5293686080>;\n",
              "\n",
              "Test: <__main__.SQUAD_Dataset object at 0x7f5294799198>, model=ModelWrapper(\n",
              "  (model): AlbertForQuestionAnswering(\n",
              "    (albert): AlbertModel(\n",
              "      (embeddings): AlbertEmbeddings(\n",
              "        (word_embeddings): Embedding(30000, 128, padding_idx=0)\n",
              "        (position_embeddings): Embedding(512, 128)\n",
              "        (token_type_embeddings): Embedding(2, 128)\n",
              "        (LayerNorm): LayerNorm((128,), eps=1e-12, elementwise_affine=True)\n",
              "        (dropout): Dropout(p=0, inplace=False)\n",
              "      )\n",
              "      (encoder): AlbertTransformer(\n",
              "        (embedding_hidden_mapping_in): Linear(in_features=128, out_features=2048, bias=True)\n",
              "        (albert_layer_groups): ModuleList(\n",
              "          (0): AlbertLayerGroup(\n",
              "            (albert_layers): ModuleList(\n",
              "              (0): AlbertLayer(\n",
              "                (full_layer_layer_norm): LayerNorm((2048,), eps=1e-12, elementwise_affine=True)\n",
              "                (attention): AlbertAttention(\n",
              "                  (query): Linear(in_features=2048, out_features=2048, bias=True)\n",
              "                  (key): Linear(in_features=2048, out_features=2048, bias=True)\n",
              "                  (value): Linear(in_features=2048, out_features=2048, bias=True)\n",
              "                  (dropout): Dropout(p=0, inplace=False)\n",
              "                  (dense): Linear(in_features=2048, out_features=2048, bias=True)\n",
              "                  (LayerNorm): LayerNorm((2048,), eps=1e-12, elementwise_affine=True)\n",
              "                )\n",
              "                (ffn): Linear(in_features=2048, out_features=8192, bias=True)\n",
              "                (ffn_output): Linear(in_features=8192, out_features=2048, bias=True)\n",
              "              )\n",
              "            )\n",
              "          )\n",
              "        )\n",
              "      )\n",
              "      (pooler): Linear(in_features=2048, out_features=2048, bias=True)\n",
              "      (pooler_activation): Tanh()\n",
              "    )\n",
              "    (qa_outputs): Linear(in_features=2048, out_features=2, bias=True)\n",
              "  )\n",
              "), opt_func=functools.partial(<class 'transformers.optimization.AdamW'>, correct_bias=False), loss_func=DummyLoss(), metrics=[JaccardScore], true_wd=True, bn_wd=True, wd=0.01, train_bn=True, path=PosixPath('.'), model_dir='models_fold_0', callback_fns=[functools.partial(<class 'fastai.basic_train.Recorder'>, add_time=True, silent=False)], callbacks=[ShowGraph\n",
              "learn: Learner(data=DataBunch;\n",
              "\n",
              "Train: <__main__.SQUAD_Dataset object at 0x7f529a2b2048>;\n",
              "\n",
              "Valid: <__main__.SQUAD_Dataset object at 0x7f5293686080>;\n",
              "\n",
              "Test: <__main__.SQUAD_Dataset object at 0x7f5294799198>, model=ModelWrapper(\n",
              "  (model): AlbertForQuestionAnswering(\n",
              "    (albert): AlbertModel(\n",
              "      (embeddings): AlbertEmbeddings(\n",
              "        (word_embeddings): Embedding(30000, 128, padding_idx=0)\n",
              "        (position_embeddings): Embedding(512, 128)\n",
              "        (token_type_embeddings): Embedding(2, 128)\n",
              "        (LayerNorm): LayerNorm((128,), eps=1e-12, elementwise_affine=True)\n",
              "        (dropout): Dropout(p=0, inplace=False)\n",
              "      )\n",
              "      (encoder): AlbertTransformer(\n",
              "        (embedding_hidden_mapping_in): Linear(in_features=128, out_features=2048, bias=True)\n",
              "        (albert_layer_groups): ModuleList(\n",
              "          (0): AlbertLayerGroup(\n",
              "            (albert_layers): ModuleList(\n",
              "              (0): AlbertLayer(\n",
              "                (full_layer_layer_norm): LayerNorm((2048,), eps=1e-12, elementwise_affine=True)\n",
              "                (attention): AlbertAttention(\n",
              "                  (query): Linear(in_features=2048, out_features=2048, bias=True)\n",
              "                  (key): Linear(in_features=2048, out_features=2048, bias=True)\n",
              "                  (value): Linear(in_features=2048, out_features=2048, bias=True)\n",
              "                  (dropout): Dropout(p=0, inplace=False)\n",
              "                  (dense): Linear(in_features=2048, out_features=2048, bias=True)\n",
              "                  (LayerNorm): LayerNorm((2048,), eps=1e-12, elementwise_affine=True)\n",
              "                )\n",
              "                (ffn): Linear(in_features=2048, out_features=8192, bias=True)\n",
              "                (ffn_output): Linear(in_features=8192, out_features=2048, bias=True)\n",
              "              )\n",
              "            )\n",
              "          )\n",
              "        )\n",
              "      )\n",
              "      (pooler): Linear(in_features=2048, out_features=2048, bias=True)\n",
              "      (pooler_activation): Tanh()\n",
              "    )\n",
              "    (qa_outputs): Linear(in_features=2048, out_features=2, bias=True)\n",
              "  )\n",
              "), opt_func=functools.partial(<class 'transformers.optimization.AdamW'>, correct_bias=False), loss_func=DummyLoss(), metrics=[JaccardScore], true_wd=True, bn_wd=True, wd=0.01, train_bn=True, path=PosixPath('.'), model_dir='models_fold_0', callback_fns=[functools.partial(<class 'fastai.basic_train.Recorder'>, add_time=True, silent=False)], callbacks=[...], layer_groups=[Sequential(\n",
              "  (0): Embedding(30000, 128, padding_idx=0)\n",
              "  (1): Embedding(512, 128)\n",
              "  (2): Embedding(2, 128)\n",
              "  (3): LayerNorm((128,), eps=1e-12, elementwise_affine=True)\n",
              "  (4): Dropout(p=0, inplace=False)\n",
              "), Sequential(\n",
              "  (0): Linear(in_features=128, out_features=2048, bias=True)\n",
              "  (1): LayerNorm((2048,), eps=1e-12, elementwise_affine=True)\n",
              "  (2): Linear(in_features=2048, out_features=2048, bias=True)\n",
              "  (3): Linear(in_features=2048, out_features=2048, bias=True)\n",
              "  (4): Linear(in_features=2048, out_features=2048, bias=True)\n",
              "  (5): Dropout(p=0, inplace=False)\n",
              "  (6): Linear(in_features=2048, out_features=2048, bias=True)\n",
              "  (7): LayerNorm((2048,), eps=1e-12, elementwise_affine=True)\n",
              "  (8): Linear(in_features=2048, out_features=8192, bias=True)\n",
              "  (9): Linear(in_features=8192, out_features=2048, bias=True)\n",
              "), Sequential(\n",
              "  (0): Linear(in_features=2048, out_features=2048, bias=True)\n",
              "  (1): Tanh()\n",
              "), Sequential(\n",
              "  (0): Linear(in_features=2048, out_features=2, bias=True)\n",
              ")], add_time=True, silent=False), MixedPrecision\n",
              "learn: Learner(data=DataBunch;\n",
              "\n",
              "Train: <__main__.SQUAD_Dataset object at 0x7f529a2b2048>;\n",
              "\n",
              "Valid: <__main__.SQUAD_Dataset object at 0x7f5293686080>;\n",
              "\n",
              "Test: <__main__.SQUAD_Dataset object at 0x7f5294799198>, model=ModelWrapper(\n",
              "  (model): AlbertForQuestionAnswering(\n",
              "    (albert): AlbertModel(\n",
              "      (embeddings): AlbertEmbeddings(\n",
              "        (word_embeddings): Embedding(30000, 128, padding_idx=0)\n",
              "        (position_embeddings): Embedding(512, 128)\n",
              "        (token_type_embeddings): Embedding(2, 128)\n",
              "        (LayerNorm): LayerNorm((128,), eps=1e-12, elementwise_affine=True)\n",
              "        (dropout): Dropout(p=0, inplace=False)\n",
              "      )\n",
              "      (encoder): AlbertTransformer(\n",
              "        (embedding_hidden_mapping_in): Linear(in_features=128, out_features=2048, bias=True)\n",
              "        (albert_layer_groups): ModuleList(\n",
              "          (0): AlbertLayerGroup(\n",
              "            (albert_layers): ModuleList(\n",
              "              (0): AlbertLayer(\n",
              "                (full_layer_layer_norm): LayerNorm((2048,), eps=1e-12, elementwise_affine=True)\n",
              "                (attention): AlbertAttention(\n",
              "                  (query): Linear(in_features=2048, out_features=2048, bias=True)\n",
              "                  (key): Linear(in_features=2048, out_features=2048, bias=True)\n",
              "                  (value): Linear(in_features=2048, out_features=2048, bias=True)\n",
              "                  (dropout): Dropout(p=0, inplace=False)\n",
              "                  (dense): Linear(in_features=2048, out_features=2048, bias=True)\n",
              "                  (LayerNorm): LayerNorm((2048,), eps=1e-12, elementwise_affine=True)\n",
              "                )\n",
              "                (ffn): Linear(in_features=2048, out_features=8192, bias=True)\n",
              "                (ffn_output): Linear(in_features=8192, out_features=2048, bias=True)\n",
              "              )\n",
              "            )\n",
              "          )\n",
              "        )\n",
              "      )\n",
              "      (pooler): Linear(in_features=2048, out_features=2048, bias=True)\n",
              "      (pooler_activation): Tanh()\n",
              "    )\n",
              "    (qa_outputs): Linear(in_features=2048, out_features=2, bias=True)\n",
              "  )\n",
              "), opt_func=functools.partial(<class 'transformers.optimization.AdamW'>, correct_bias=False), loss_func=DummyLoss(), metrics=[JaccardScore], true_wd=True, bn_wd=True, wd=0.01, train_bn=True, path=PosixPath('.'), model_dir='models_fold_0', callback_fns=[functools.partial(<class 'fastai.basic_train.Recorder'>, add_time=True, silent=False)], callbacks=[...], layer_groups=[Sequential(\n",
              "  (0): Embedding(30000, 128, padding_idx=0)\n",
              "  (1): Embedding(512, 128)\n",
              "  (2): Embedding(2, 128)\n",
              "  (3): LayerNorm((128,), eps=1e-12, elementwise_affine=True)\n",
              "  (4): Dropout(p=0, inplace=False)\n",
              "), Sequential(\n",
              "  (0): Linear(in_features=128, out_features=2048, bias=True)\n",
              "  (1): LayerNorm((2048,), eps=1e-12, elementwise_affine=True)\n",
              "  (2): Linear(in_features=2048, out_features=2048, bias=True)\n",
              "  (3): Linear(in_features=2048, out_features=2048, bias=True)\n",
              "  (4): Linear(in_features=2048, out_features=2048, bias=True)\n",
              "  (5): Dropout(p=0, inplace=False)\n",
              "  (6): Linear(in_features=2048, out_features=2048, bias=True)\n",
              "  (7): LayerNorm((2048,), eps=1e-12, elementwise_affine=True)\n",
              "  (8): Linear(in_features=2048, out_features=8192, bias=True)\n",
              "  (9): Linear(in_features=8192, out_features=2048, bias=True)\n",
              "), Sequential(\n",
              "  (0): Linear(in_features=2048, out_features=2048, bias=True)\n",
              "  (1): Tanh()\n",
              "), Sequential(\n",
              "  (0): Linear(in_features=2048, out_features=2, bias=True)\n",
              ")], add_time=True, silent=False)\n",
              "loss_scale: 65536\n",
              "max_noskip: 1000\n",
              "dynamic: True\n",
              "clip: None\n",
              "flat_master: False\n",
              "max_scale: 16777216\n",
              "loss_fp32: True], layer_groups=[Sequential(\n",
              "  (0): Embedding(30000, 128, padding_idx=0)\n",
              "  (1): Embedding(512, 128)\n",
              "  (2): Embedding(2, 128)\n",
              "  (3): LayerNorm((128,), eps=1e-12, elementwise_affine=True)\n",
              "  (4): Dropout(p=0, inplace=False)\n",
              "), Sequential(\n",
              "  (0): Linear(in_features=128, out_features=2048, bias=True)\n",
              "  (1): LayerNorm((2048,), eps=1e-12, elementwise_affine=True)\n",
              "  (2): Linear(in_features=2048, out_features=2048, bias=True)\n",
              "  (3): Linear(in_features=2048, out_features=2048, bias=True)\n",
              "  (4): Linear(in_features=2048, out_features=2048, bias=True)\n",
              "  (5): Dropout(p=0, inplace=False)\n",
              "  (6): Linear(in_features=2048, out_features=2048, bias=True)\n",
              "  (7): LayerNorm((2048,), eps=1e-12, elementwise_affine=True)\n",
              "  (8): Linear(in_features=2048, out_features=8192, bias=True)\n",
              "  (9): Linear(in_features=8192, out_features=2048, bias=True)\n",
              "), Sequential(\n",
              "  (0): Linear(in_features=2048, out_features=2048, bias=True)\n",
              "  (1): Tanh()\n",
              "), Sequential(\n",
              "  (0): Linear(in_features=2048, out_features=2, bias=True)\n",
              ")], add_time=True, silent=False)"
            ]
          },
          "metadata": {
            "tags": []
          },
          "execution_count": 38
        }
      ]
    },
    {
      "cell_type": "code",
      "metadata": {
        "id": "51DXL5rz6biP"
      },
      "source": [
        "learner.freeze_to(-3)"
      ],
      "execution_count": null,
      "outputs": []
    },
    {
      "cell_type": "code",
      "metadata": {
        "id": "Xq05r7UlGMoG"
      },
      "source": [
        "learner.data = data"
      ],
      "execution_count": null,
      "outputs": []
    },
    {
      "cell_type": "code",
      "metadata": {
        "id": "qGFzdM0gGoi0"
      },
      "source": [
        "learner.opt_func = CustomAdamW"
      ],
      "execution_count": null,
      "outputs": []
    },
    {
      "cell_type": "code",
      "metadata": {
        "id": "SPo4O2vEGjwe",
        "outputId": "f107b538-ed4e-46e7-f997-c5e8c2670051",
        "colab": {
          "base_uri": "https://localhost:8080/",
          "height": 112
        }
      },
      "source": [
        "learner.lr_find()"
      ],
      "execution_count": null,
      "outputs": [
        {
          "output_type": "display_data",
          "data": {
            "text/html": [
              "\n",
              "    <div>\n",
              "        <style>\n",
              "            /* Turns off some styling */\n",
              "            progress {\n",
              "                /* gets rid of default border in Firefox and Opera. */\n",
              "                border: none;\n",
              "                /* Needs to be in here for Safari polyfill so background images work as expected. */\n",
              "                background-size: auto;\n",
              "            }\n",
              "            .progress-bar-interrupted, .progress-bar-interrupted::-webkit-progress-bar {\n",
              "                background: #F44336;\n",
              "            }\n",
              "        </style>\n",
              "      <progress value='0' class='' max='1' style='width:300px; height:20px; vertical-align: middle;'></progress>\n",
              "      0.00% [0/1 00:00<00:00]\n",
              "    </div>\n",
              "    \n",
              "<table border=\"1\" class=\"dataframe\">\n",
              "  <thead>\n",
              "    <tr style=\"text-align: left;\">\n",
              "      <th>epoch</th>\n",
              "      <th>train_loss</th>\n",
              "      <th>valid_loss</th>\n",
              "      <th>jaccard_score</th>\n",
              "      <th>time</th>\n",
              "    </tr>\n",
              "  </thead>\n",
              "  <tbody>\n",
              "  </tbody>\n",
              "</table><p>\n",
              "\n",
              "    <div>\n",
              "        <style>\n",
              "            /* Turns off some styling */\n",
              "            progress {\n",
              "                /* gets rid of default border in Firefox and Opera. */\n",
              "                border: none;\n",
              "                /* Needs to be in here for Safari polyfill so background images work as expected. */\n",
              "                background-size: auto;\n",
              "            }\n",
              "            .progress-bar-interrupted, .progress-bar-interrupted::-webkit-progress-bar {\n",
              "                background: #F44336;\n",
              "            }\n",
              "        </style>\n",
              "      <progress value='77' class='' max='818' style='width:300px; height:20px; vertical-align: middle;'></progress>\n",
              "      9.41% [77/818 04:04<39:14 4.2202]\n",
              "    </div>\n",
              "    "
            ],
            "text/plain": [
              "<IPython.core.display.HTML object>"
            ]
          },
          "metadata": {
            "tags": []
          }
        },
        {
          "output_type": "stream",
          "text": [
            "LR Finder is complete, type {learner_name}.recorder.plot() to see the graph.\n"
          ],
          "name": "stdout"
        }
      ]
    },
    {
      "cell_type": "code",
      "metadata": {
        "id": "Kb-AYFOKHFv0",
        "outputId": "3db9c001-7777-4ecc-de07-c7e3eb10f454",
        "colab": {
          "base_uri": "https://localhost:8080/",
          "height": 279
        }
      },
      "source": [
        "learner.recorder.plot()"
      ],
      "execution_count": null,
      "outputs": [
        {
          "output_type": "display_data",
          "data": {
            "image/png": "[encoded data removed]",
            "text/plain": [
              "<Figure size 432x288 with 1 Axes>"
            ]
          },
          "metadata": {
            "tags": [],
            "needs_background": "light"
          }
        }
      ]
    },
    {
      "cell_type": "code",
      "metadata": {
        "id": "KSVybQ79JxEt"
      },
      "source": [
        "lr = 1e-6"
      ],
      "execution_count": null,
      "outputs": []
    },
    {
      "cell_type": "code",
      "metadata": {
        "id": "byQfYTPzJ31K",
        "outputId": "b29ac5c8-c3de-4700-e841-39f8f28ee8f6",
        "colab": {
          "base_uri": "https://localhost:8080/",
          "height": 95
        }
      },
      "source": [
        "learner.fit_one_cycle(2, max_lr=slice(lr*0.95**5, lr), moms=(0.8, 0.9), callbacks=[early_stop_cb, save_model_cb])"
      ],
      "execution_count": null,
      "outputs": [
        {
          "output_type": "display_data",
          "data": {
            "text/html": [
              "\n",
              "    <div>\n",
              "        <style>\n",
              "            /* Turns off some styling */\n",
              "            progress {\n",
              "                /* gets rid of default border in Firefox and Opera. */\n",
              "                border: none;\n",
              "                /* Needs to be in here for Safari polyfill so background images work as expected. */\n",
              "                background-size: auto;\n",
              "            }\n",
              "            .progress-bar-interrupted, .progress-bar-interrupted::-webkit-progress-bar {\n",
              "                background: #F44336;\n",
              "            }\n",
              "        </style>\n",
              "      <progress value='0' class='' max='2' style='width:300px; height:20px; vertical-align: middle;'></progress>\n",
              "      0.00% [0/2 00:00<00:00]\n",
              "    </div>\n",
              "    \n",
              "<table border=\"1\" class=\"dataframe\">\n",
              "  <thead>\n",
              "    <tr style=\"text-align: left;\">\n",
              "      <th>epoch</th>\n",
              "      <th>train_loss</th>\n",
              "      <th>valid_loss</th>\n",
              "      <th>jaccard_score</th>\n",
              "      <th>time</th>\n",
              "    </tr>\n",
              "  </thead>\n",
              "  <tbody>\n",
              "  </tbody>\n",
              "</table><p>\n",
              "\n",
              "    <div>\n",
              "        <style>\n",
              "            /* Turns off some styling */\n",
              "            progress {\n",
              "                /* gets rid of default border in Firefox and Opera. */\n",
              "                border: none;\n",
              "                /* Needs to be in here for Safari polyfill so background images work as expected. */\n",
              "                background-size: auto;\n",
              "            }\n",
              "            .progress-bar-interrupted, .progress-bar-interrupted::-webkit-progress-bar {\n",
              "                background: #F44336;\n",
              "            }\n",
              "        </style>\n",
              "      <progress value='683' class='' max='818' style='width:300px; height:20px; vertical-align: middle;'></progress>\n",
              "      83.50% [683/818 36:05<07:08 1.7661]\n",
              "    </div>\n",
              "    "
            ],
            "text/plain": [
              "<IPython.core.display.HTML object>"
            ]
          },
          "metadata": {
            "tags": []
          }
        }
      ]
    },
    {
      "cell_type": "code",
      "metadata": {
        "id": "XUJ7hX8WKl8C"
      },
      "source": [
        ""
      ],
      "execution_count": null,
      "outputs": []
    }
  ]
}